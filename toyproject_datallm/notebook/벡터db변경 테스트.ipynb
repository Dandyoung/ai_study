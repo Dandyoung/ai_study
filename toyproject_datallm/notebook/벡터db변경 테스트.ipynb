{
 "cells": [
  {
   "cell_type": "markdown",
   "metadata": {},
   "source": [
    "<h1>1. SQLite 데이터베이스 연결 및 데이터 읽기</h1><br>\n",
    "SQLite 데이터베이스에서 데이터를 읽어옵니다:\n",
    "\n",
    "데이터 프레임으로 변환하는데,\n",
    "\n",
    "1. datetime 추가\n",
    "2. 태그 설명 날리기"
   ]
  },
  {
   "cell_type": "code",
   "execution_count": null,
   "metadata": {},
   "outputs": [],
   "source": [
    "import os\n",
    "import sqlite3\n",
    "import pandas as pd\n",
    "\n",
    "# 상대 경로 설정\n",
    "relative_path = '../test_dataset.db'  # Jupyter 노트북 파일의 상대 경로로 변경\n",
    "\n",
    "# 현재 작업 디렉토리 확인\n",
    "print(\"현재 작업 디렉토리:\", os.getcwd())\n",
    "\n",
    "# 절대 경로 얻기\n",
    "file_path = os.path.abspath(relative_path)\n",
    "print(\"데이터베이스 파일 절대 경로:\", file_path)\n",
    "\n",
    "# 파일 존재 여부 확인\n",
    "if not os.path.exists(file_path):\n",
    "    print(f\"파일이 존재하지 않습니다: {file_path}\")\n",
    "else:\n",
    "    try:\n",
    "        # SQLite 데이터베이스 연결\n",
    "        conn = sqlite3.connect(file_path)\n",
    "\n",
    "        # 데이터프레임으로 변환\n",
    "        query = \"SELECT * FROM test_table\"  # your_table_name을 실제 테이블 이름으로 변경\n",
    "        df = pd.read_sql_query(query, conn)\n",
    "\n",
    "\n",
    "        df = df.iloc[1:]\n",
    "        # 첫 번째 열을 'datetime'으로 변경\n",
    "        df.iloc[0, 0] = 'datetime'\n",
    "        df.columns = df.iloc[0]\n",
    "        df = df[1:]\n",
    "\n",
    "        # 인덱스를 재설정\n",
    "        df.reset_index(drop=True, inplace=True)\n",
    "\n",
    "        # 데이터프레임 확인\n",
    "        print(\"수정된 데이터프레임:\")\n",
    "        print(df.head())\n",
    "    except sqlite3.OperationalError as e:\n",
    "        print(f\"데이터베이스 파일을 열 수 없습니다: {e}\")"
   ]
  },
  {
   "cell_type": "markdown",
   "metadata": {},
   "source": [
    "Milvus 연결 및 데이터베이스 생성\n",
    "Milvus 클러스터에 연결하고 필요한 데이터베이스를 생성합니다:"
   ]
  },
  {
   "cell_type": "code",
   "execution_count": null,
   "metadata": {},
   "outputs": [],
   "source": [
    "# from pymilvus import connections, db, Collection, utility\n",
    "\n",
    "# # Milvus에 연결\n",
    "# _HOST = 'milvus-standalone'\n",
    "# _PORT = '19530'\n",
    "\n",
    "# def connect_to_milvus(host=_HOST, port=_PORT):\n",
    "#     # 기존 연결이 있는지 확인하고 제거\n",
    "#     if connections.has_connection(alias=\"default\"):\n",
    "#         connections.remove_connection(alias=\"default\")\n",
    "#     # 새로운 연결 생성\n",
    "#     connections.connect(host=host, port=port, alias=\"default\")\n",
    "\n",
    "\n",
    "# connect_to_milvus()\n",
    "\n",
    "# # 모든 데이터베이스 목록 출력\n",
    "# databases = db.list_database()\n",
    "# print(\"Databases:\", databases)\n",
    "\n",
    "# # default 데이터베이스는 drop할 수 없음..\n",
    "# db.drop_database(\"sqlite_db\")\n",
    "# databases = db.list_database()\n",
    "# print(\"Databases:\", databases)"
   ]
  },
  {
   "cell_type": "code",
   "execution_count": null,
   "metadata": {},
   "outputs": [],
   "source": [
    "from pymilvus import connections, db, FieldSchema, CollectionSchema, DataType, Collection\n",
    "\n",
    "# Milvus에 연결\n",
    "connections.connect(host=\"milvus-standalone\", port=\"19530\")\n",
    "\n",
    "# 데이터베이스 생성\n",
    "db.create_database(\"test_db\")\n",
    "db.using_database(\"test_db\")"
   ]
  },
  {
   "cell_type": "markdown",
   "metadata": {},
   "source": [
    "데이터 프레임으로 변환하는데,\n",
    "\n",
    "1. datetime 추가\n",
    "2. 태그 설명 날리기"
   ]
  },
  {
   "cell_type": "code",
   "execution_count": null,
   "metadata": {},
   "outputs": [],
   "source": [
    "db.list_database()"
   ]
  },
  {
   "cell_type": "code",
   "execution_count": null,
   "metadata": {},
   "outputs": [],
   "source": []
  },
  {
   "cell_type": "code",
   "execution_count": null,
   "metadata": {},
   "outputs": [],
   "source": []
  }
 ],
 "metadata": {
  "kernelspec": {
   "display_name": "Python 3",
   "language": "python",
   "name": "python3"
  },
  "language_info": {
   "codemirror_mode": {
    "name": "ipython",
    "version": 3
   },
   "file_extension": ".py",
   "mimetype": "text/x-python",
   "name": "python",
   "nbconvert_exporter": "python",
   "pygments_lexer": "ipython3",
   "version": "3.10.12"
  }
 },
 "nbformat": 4,
 "nbformat_minor": 2
}
