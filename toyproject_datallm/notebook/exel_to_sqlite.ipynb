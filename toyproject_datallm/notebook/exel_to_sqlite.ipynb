{
 "cells": [
  {
   "cell_type": "code",
   "execution_count": null,
   "metadata": {},
   "outputs": [],
   "source": [
    "'''\n",
    "전체 엑셀 파일 db로 변환\n",
    "'''\n",
    "\n",
    "\n",
    "# import pandas as pd\n",
    "# import sqlite3\n",
    "\n",
    "# # 엑셀 파일 경로\n",
    "# excel_file = '/workspace/youngwoo/dataset.xlsm'\n",
    "\n",
    "# # SQLite 데이터베이스 파일 경로 (파일 이름을 포함하여 지정)\n",
    "# sqlite_db = '/workspace/youngwoo/dataset.db'\n",
    "\n",
    "# # 엑셀 파일 읽기 (모든 시트)\n",
    "# xlsm_data = pd.read_excel(excel_file, sheet_name=None)  # 모든 시트를 딕셔너리로 읽기\n",
    "\n",
    "# # SQLite 데이터베이스 연결 (없으면 생성)\n",
    "# conn = sqlite3.connect(sqlite_db)\n",
    "\n",
    "# # 각 시트를 SQLite 데이터베이스로 변환\n",
    "# for sheet_name, df in xlsm_data.items():\n",
    "#     # 데이터프레임을 SQLite로 내보내기 (시트 이름을 테이블 이름으로 사용)\n",
    "#     df.to_sql(sheet_name, conn, if_exists='replace', index=False)\n",
    "\n",
    "# # 연결 닫기\n",
    "# conn.close()\n",
    "# print(\"엑셀 파일의 모든 시트가 SQLite 데이터베이스로 성공적으로 변환되었습니다.\")\n"
   ]
  },
  {
   "cell_type": "code",
   "execution_count": null,
   "metadata": {},
   "outputs": [],
   "source": [
    "import pandas as pd\n",
    "import sqlite3\n",
    "\n",
    "# 엑셀 파일 경로\n",
    "excel_file = '/workspace/youngwoo/dataset.xlsm'\n",
    "\n",
    "sqlite_db = '/workspace/youngwoo/test_dataset.db'\n",
    "\n",
    "# 엑셀 파일 읽기 (첫 번째 시트)\n",
    "df = pd.read_excel(excel_file, sheet_name=0)\n",
    "\n",
    "# SQLite 데이터베이스 연결 (없으면 생성)\n",
    "conn = sqlite3.connect(sqlite_db)\n",
    "cursor = conn.cursor()\n",
    "\n",
    "# 데이터프레임을 SQLite로 내보내기 (테이블 이름은 'my_table'로 설정)\n",
    "df.to_sql('test_table', conn, if_exists='replace', index=False)\n",
    "\n",
    "# 연결 닫기\n",
    "conn.close()\n",
    "print(\"엑셀 파일이 SQLite 데이터베이스로 성공적으로 변환되었습니다.\")"
   ]
  },
  {
   "cell_type": "code",
   "execution_count": 11,
   "metadata": {},
   "outputs": [
    {
     "name": "stdout",
     "output_type": "stream",
     "text": [
      "SELECT COUNT(*) \n",
      "FROM pragma_table_info('test_table')\n"
     ]
    }
   ],
   "source": [
    "import sqlite3\n",
    "from langchain_openai import ChatOpenAI\n",
    "from langchain.chains import create_sql_query_chain\n",
    "from langchain.sql_database import SQLDatabase\n",
    "\n",
    "# OpenAI API 설정\n",
    "llm = ChatOpenAI(model=\"gpt-3.5-turbo\")\n",
    "\n",
    "# SQLite 데이터베이스 파일 경로\n",
    "sqlite_db_path = '/workspace/youngwoo/test_dataset.db'\n",
    "\n",
    "# SQLite 데이터베이스 연결\n",
    "conn = sqlite3.connect(sqlite_db_path)\n",
    "\n",
    "# SQLAlchemy 엔진 생성\n",
    "from sqlalchemy import create_engine\n",
    "engine = create_engine(f'sqlite:///{sqlite_db_path}')\n",
    "\n",
    "# SQLDatabase 객체 생성\n",
    "db = SQLDatabase(engine)\n",
    "\n",
    "# SQL Query Chain 생성\n",
    "chain = create_sql_query_chain(llm, db)\n",
    "\n",
    "# 질문을 통한 SQL Query Chain 실행\n",
    "question = \"해당 데이터셋에 몇개의 열이 있어?\"\n",
    "response = chain.invoke({\"question\": question})\n",
    "\n",
    "print(response)\n",
    "\n",
    "# 연결 닫기\n",
    "conn.close()\n"
   ]
  },
  {
   "cell_type": "code",
   "execution_count": 8,
   "metadata": {},
   "outputs": [
    {
     "name": "stdout",
     "output_type": "stream",
     "text": [
      "수정된 데이터프레임:\n",
      "             datetime    1FY1902     1GT1KV   1GT1MVAR  1GT1MWTRGT  \\\n",
      "0 2023-03-24 00:00:00  17.862782  17.713890  15.021845       120.0   \n",
      "1 2023-03-24 00:00:01  17.866901  17.717178  15.575921       120.0   \n",
      "2 2023-03-24 00:00:02  17.873007  17.721739  15.725972       120.0   \n",
      "3 2023-03-24 00:00:03  17.863453  17.726299  15.323137       120.0   \n",
      "4 2023-03-24 00:00:04  17.864088  17.729855  15.089379       120.0   \n",
      "\n",
      "   1GT1MWTRGT-11  1V.GGG.EGA.A  1V.GJG.EGA.A  1V.GJG.MGA.A  1V.GJG.PGA.A  ...  \\\n",
      "0          120.0      99.14782             0             0     813.05127  ...   \n",
      "1          120.0      99.14782             0             0     813.05127  ...   \n",
      "2          120.0      99.14782             0             0     813.05127  ...   \n",
      "3          120.0      99.14782             0             0     813.05127  ...   \n",
      "4          120.0      99.14782             0             0     813.05127  ...   \n",
      "\n",
      "   1V.IPJ.AXD.A  1V.IPJ.NGA.A  1V.ITG.CGA.A  1V.ITU.AF0.A  1V.ITU.AF1.A  \\\n",
      "0      0.025218       0.08475     30.213995    184.231796      10.66027   \n",
      "1      0.025218       0.08475     30.213995    184.231796      10.66027   \n",
      "2      0.025218       0.08475     30.213995    184.231796      10.66027   \n",
      "3      0.025218       0.08475     30.213995    184.231796      10.66027   \n",
      "4      0.025218       0.08475     30.213995    184.231796      10.66027   \n",
      "\n",
      "   1JYR1918  1JYS1919  1JYT1945  1GTDL1001 1PDIS1501A  \n",
      "0       OFF       OFF       OFF          0         ON  \n",
      "1       OFF       OFF       OFF          0         ON  \n",
      "2       OFF       OFF       OFF          0         ON  \n",
      "3       OFF       OFF       OFF          0         ON  \n",
      "4       OFF       OFF       OFF          0         ON  \n",
      "\n",
      "[5 rows x 32 columns]\n"
     ]
    }
   ],
   "source": [
    "import pandas as pd\n",
    "\n",
    "# 엑셀 파일 경로 설정\n",
    "excel_file = '/workspace/youngwoo/toyproject-datallm/dataset.xlsm'\n",
    "\n",
    "# 첫 번째 행을 열 이름으로 설정하여 엑셀 파일 읽기\n",
    "df = pd.read_excel(excel_file, header=2, sheet_name=0)\n",
    "df.rename(columns={'Unnamed: 0': 'datetime'}, inplace=True)\n",
    "# 수정된 데이터프레임 확인\n",
    "print(\"수정된 데이터프레임:\")\n",
    "print(df.head())\n"
   ]
  },
  {
   "cell_type": "code",
   "execution_count": 1,
   "metadata": {},
   "outputs": [
    {
     "data": {
      "text/plain": [
       "({'3월24일': 86401,\n",
       "  '25일': 86401,\n",
       "  '26일': 86401,\n",
       "  '27일': 86401,\n",
       "  '28일': 86401,\n",
       "  '29일': 86401,\n",
       "  '30일': 86401,\n",
       "  '31일(오버홀 시작)': 86401,\n",
       "  '7월3일(오버홀 끝)': 86401,\n",
       "  '4일': 86401,\n",
       "  '5일': 86401,\n",
       "  '6일': 86401,\n",
       "  '7일': 86401,\n",
       "  '8일': 86401,\n",
       "  '9일': 86401,\n",
       "  '10일': 86401},\n",
       " 1382416)"
      ]
     },
     "execution_count": 1,
     "metadata": {},
     "output_type": "execute_result"
    }
   ],
   "source": [
    "import pandas as pd\n",
    "\n",
    "# Load the Excel file\n",
    "file_path = '/workspace/youngwoo/toyproject-datallm/tests/gt_v1.xlsx'\n",
    "excel_file = pd.ExcelFile(file_path)\n",
    "\n",
    "# Initialize a dictionary to store row counts for each sheet\n",
    "sheet_row_counts = {}\n",
    "\n",
    "# Iterate through each sheet and count the number of rows\n",
    "for sheet_name in excel_file.sheet_names:\n",
    "    df = excel_file.parse(sheet_name)\n",
    "    sheet_row_counts[sheet_name] = len(df)\n",
    "\n",
    "# Calculate the total number of rows across all sheets\n",
    "total_rows = sum(sheet_row_counts.values())\n",
    "\n",
    "sheet_row_counts, total_rows"
   ]
  },
  {
   "cell_type": "markdown",
   "metadata": {},
   "source": [
    "3월24일 : 86401 \n",
    "25일 : 86401\n",
    "26일 : 86401 \n",
    "27일 : 86401\n",
    "28일 : 86401\n",
    "29일 : 86401\n",
    "30일 : 86401\n",
    "31일(오버홀 시작) : 86401\n",
    "7월3일(오버홀 끝) : 86401\n",
    "4일 : 86401\n",
    "5일 : 86401\n",
    "6일 : 86401\n",
    "7일 : 86401\n",
    "8일 : 86401\n",
    "9일 : 86401\n",
    "10일 : 86401\n",
    "\n",
    "총 1382416 x 32 개"
   ]
  },
  {
   "cell_type": "code",
   "execution_count": null,
   "metadata": {},
   "outputs": [],
   "source": [
    "import pandas as pd\n",
    "\n",
    "# Load the Excel file\n",
    "file_path = '/workspace/youngwoo/toyproject-datallm/tests/gt_v1.xlsx'\n",
    "excel_file = pd.ExcelFile(file_path)\n",
    "\n",
    "# Initialize a dictionary to store row counts for each sheet\n",
    "sheet_row_counts = {}\n",
    "\n",
    "# Iterate through each sheet and count the number of rows\n",
    "for sheet_name in excel_file.sheet_names:\n",
    "    df = excel_file.parse(sheet_name)\n",
    "    sheet_row_counts[sheet_name] = len(df)\n",
    "\n",
    "# Calculate the total number of rows across all sheets\n",
    "total_rows = sum(sheet_row_counts.values())\n",
    "\n",
    "sheet_row_counts, total_rows"
   ]
  }
 ],
 "metadata": {
  "kernelspec": {
   "display_name": "Python 3",
   "language": "python",
   "name": "python3"
  },
  "language_info": {
   "codemirror_mode": {
    "name": "ipython",
    "version": 3
   },
   "file_extension": ".py",
   "mimetype": "text/x-python",
   "name": "python",
   "nbconvert_exporter": "python",
   "pygments_lexer": "ipython3",
   "version": "3.10.12"
  }
 },
 "nbformat": 4,
 "nbformat_minor": 2
}
