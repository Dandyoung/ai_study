{
 "cells": [
  {
   "cell_type": "markdown",
   "metadata": {},
   "source": [
    "<h1> xlsx -> csv 변환"
   ]
  },
  {
   "cell_type": "code",
   "execution_count": null,
   "metadata": {},
   "outputs": [],
   "source": [
    "import pandas as pd\n",
    "\n",
    "def save_sheets_as_csv(excel_file_path):\n",
    "    # 엑셀 파일 읽기\n",
    "    excel_file = pd.ExcelFile(excel_file_path)\n",
    "    \n",
    "    # 각 시트 이름을 가져오기\n",
    "    sheet_names = excel_file.sheet_names\n",
    "    \n",
    "    # 각 시트를 CSV 파일로 저장\n",
    "    for sheet_name in sheet_names:\n",
    "        # 시트 읽기\n",
    "        df = pd.read_excel(excel_file_path, sheet_name=sheet_name)\n",
    "        \n",
    "        # CSV 파일 이름 생성 (시트 이름 + .csv)\n",
    "        csv_file_path = f\"{sheet_name}.csv\"\n",
    "        \n",
    "        # 데이터프레임을 CSV 파일로 저장\n",
    "        df.to_csv(csv_file_path, index=False)\n",
    "        print(f\"Saved {sheet_name} to {csv_file_path}\")\n",
    "\n",
    "# 사용 예시\n",
    "excel_file_path = '/workspace/youngwoo/toyproject-datallm/modules/agent/gt_v1.xlsx'\n",
    "save_sheets_as_csv(excel_file_path)\n"
   ]
  },
  {
   "cell_type": "code",
   "execution_count": null,
   "metadata": {},
   "outputs": [],
   "source": [
    "import pandas as pd\n",
    "import numpy as np\n",
    "\n",
    "def process_csv(file_path, output_path):\n",
    "    # CSV 파일 읽기\n",
    "    df = pd.read_csv(file_path, parse_dates=['datetime'])\n",
    "\n",
    "    # datetime을 인덱스로 설정\n",
    "    df.set_index('datetime', inplace=True)\n",
    "\n",
    "    # 5분 간격으로 데이터 묶기\n",
    "    grouped = df.resample('5T')\n",
    "\n",
    "    # 숫자형 데이터의 통계 계산 함수\n",
    "    # 최소, 최대, 평균, 중앙, Q1, Q3, IQR\n",
    "    def calculate_statistics(group):\n",
    "        stats = {\n",
    "            'min': group.min(),\n",
    "            'max': group.max(),\n",
    "            'mean': group.mean(),\n",
    "            'median': group.median(),\n",
    "            'Q1': group.quantile(0.25),\n",
    "            'Q3': group.quantile(0.75),\n",
    "            'IQR': group.quantile(0.75) - group.quantile(0.25)\n",
    "        }\n",
    "        return stats\n",
    "\n",
    "    # 결과를 저장할 데이터프레임 생성\n",
    "    result = []\n",
    "\n",
    "    for time, group in grouped:\n",
    "        # 숫자형 데이터 통계 계산\n",
    "        stats = calculate_statistics(group.select_dtypes(include=[np.number]))\n",
    "        tuple_stats = {col: (stats['min'][col], stats['max'][col], stats['mean'][col],\n",
    "                             stats['median'][col], stats['Q1'][col], stats['Q3'][col],\n",
    "                             stats['IQR'][col]) for col in stats['min'].index}\n",
    "        \n",
    "        # 튜플을 리스트로 변환하여 데이터프레임 생성\n",
    "        tuple_stats_df = pd.DataFrame([tuple_stats], index=[time])\n",
    "\n",
    "        # 객체 타입 데이터 처리 (변경 여부 확인)\n",
    "        obj_changes = group.select_dtypes(include=[object]).apply(lambda x: 1 if x.nunique() > 1 else 0)\n",
    "        obj_changes_df = pd.DataFrame([obj_changes], index=[time])\n",
    "\n",
    "        # 숫자형 통계와 객체 타입 변경 여부 결합\n",
    "        combined_df = tuple_stats_df.join(obj_changes_df)\n",
    "\n",
    "        result.append(combined_df)\n",
    "\n",
    "    # 결과 데이터프레임 생성\n",
    "    result_df = pd.concat(result)\n",
    "\n",
    "    # 인덱스를 열로 변환하고 이름을 datetime으로 설정\n",
    "    result_df.reset_index(inplace=True)\n",
    "    result_df.rename(columns={'index': 'datetime'}, inplace=True)\n",
    "\n",
    "    # 결과 CSV 파일로 저장\n",
    "    result_df.to_csv(output_path, index=False)\n",
    "\n",
    "\n",
    "# 사용 예시\n",
    "file_path = '/workspace/youngwoo/toyproject-datallm/modules/agent/tmp_dataset/3월24일.csv'\n",
    "output_path = '/workspace/youngwoo/toyproject-datallm/modules/agent/tmp_dataset/테스트용.csv'\n",
    "process_csv(file_path, output_path)\n"
   ]
  },
  {
   "cell_type": "code",
   "execution_count": null,
   "metadata": {},
   "outputs": [],
   "source": [
    "# 데이터 타입 확인\n",
    "file_path = '/workspace/youngwoo/toyproject-datallm/modules/agent/tmp_dataset/3월24일.csv'\n",
    "df = pd.read_csv(file_path)\n",
    "\n",
    "print(df.dtypes)"
   ]
  },
  {
   "cell_type": "code",
   "execution_count": null,
   "metadata": {},
   "outputs": [],
   "source": [
    "import pandas as pd\n",
    "\n",
    "def csv_to_dataframe(file_path):\n",
    "    # CSV 파일을 읽어 DataFrame으로 변환 (datetime 열을 날짜 형식으로 파싱하고 인덱스로 설정)\n",
    "    df = pd.read_csv(file_path, parse_dates=['datetime'], index_col='datetime')\n",
    "    return df\n",
    "\n",
    "# 사용 예시\n",
    "file_path = '/workspace/youngwoo/toyproject-datallm/modules/agent/tmp_dataset/테스트용.csv'\n",
    "df = csv_to_dataframe(file_path)\n",
    "\n",
    "# DataFrame 출력\n",
    "print(df.head(1))"
   ]
  },
  {
   "cell_type": "code",
   "execution_count": null,
   "metadata": {},
   "outputs": [],
   "source": [
    "import pandas as pd\n",
    "\n",
    "def view_specific_columns(file_path, column_names):\n",
    "    # CSV 파일을 읽어 DataFrame으로 변환\n",
    "    df = pd.read_csv(file_path)\n",
    "    \n",
    "    # 특정 컬럼들의 값 확인\n",
    "    columns_values = df[column_names]\n",
    "    return columns_values\n",
    "\n",
    "# 사용 예시\n",
    "file_path = '/workspace/youngwoo/toyproject-datallm/modules/agent/tmp_dataset/테스트용.csv'\n",
    "column_names = ['G1 START', 'G1 STOP', 'G1 GT TRIP']\n",
    "columns_values = view_specific_columns(file_path, column_names)\n",
    "\n",
    "# 특정 컬럼들의 값 출력\n",
    "print(columns_values)\n",
    "\n",
    "\n",
    "print(df.dtypes)"
   ]
  },
  {
   "cell_type": "code",
   "execution_count": 13,
   "metadata": {},
   "outputs": [
    {
     "name": "stdout",
     "output_type": "stream",
     "text": [
      "CSV 파일이 SQLite 데이터베이스로 성공적으로 변환되었습니다.\n"
     ]
    }
   ],
   "source": [
    "import pandas as pd\n",
    "import sqlite3\n",
    "\n",
    "def csv_to_sqlite(file_path, db_path, table_name='test_table'):\n",
    "    # CSV 파일을 읽어 DataFrame으로 변환\n",
    "    df = pd.read_csv(file_path)\n",
    "\n",
    "    # SQLite 데이터베이스 연결\n",
    "    conn = sqlite3.connect(db_path)\n",
    "    \n",
    "    # DataFrame을 SQLite 테이블로 저장\n",
    "    df.to_sql(table_name, conn, if_exists='replace', index=False)\n",
    "\n",
    "    # 데이터베이스 연결 종료\n",
    "    conn.close()\n",
    "\n",
    "# 사용 예시\n",
    "file_path = '/workspace/youngwoo/toyproject-datallm/modules/agent/tmp_dataset/테스트용.csv'\n",
    "db_path = '/workspace/youngwoo/toyproject-datallm/modules/agent/tmp_dataset/test_database.db'\n",
    "csv_to_sqlite(file_path, db_path)\n",
    "\n",
    "print(\"CSV 파일이 SQLite 데이터베이스로 성공적으로 변환되었습니다.\")"
   ]
  },
  {
   "cell_type": "code",
   "execution_count": null,
   "metadata": {},
   "outputs": [],
   "source": [
    "import sqlite3\n",
    "\n",
    "def get_table_schema(db_path, table_name):\n",
    "    # SQLite 데이터베이스 연결\n",
    "    conn = sqlite3.connect(db_path)\n",
    "    \n",
    "    # 커서 객체 생성\n",
    "    cursor = conn.cursor()\n",
    "    \n",
    "    # 테이블 스키마 조회 쿼리 실행\n",
    "    cursor.execute(f\"PRAGMA table_info({table_name});\")\n",
    "    \n",
    "    # 결과 가져오기\n",
    "    schema = cursor.fetchall()\n",
    "    \n",
    "    # 데이터베이스 연결 종료\n",
    "    conn.close()\n",
    "    \n",
    "    # 스키마 출력\n",
    "    for column in schema:\n",
    "        print(column)\n",
    "\n",
    "# 사용 예시\n",
    "db_path = '/workspace/youngwoo/toyproject-datallm/modules/agent/tmp_dataset/test_database.db'\n",
    "table_name = 'test_table'\n",
    "get_table_schema(db_path, table_name)"
   ]
  },
  {
   "cell_type": "code",
   "execution_count": 8,
   "metadata": {},
   "outputs": [
    {
     "name": "stdout",
     "output_type": "stream",
     "text": [
      "Modified CSV saved to /workspace/youngwoo/toyproject-datallm/modules/agent/tmp_dataset/modified_3월24일.csv\n"
     ]
    }
   ],
   "source": [
    "import pandas as pd\n",
    "\n",
    "# CSV 파일 경로\n",
    "file_path = '/workspace/youngwoo/toyproject-datallm/modules/agent/tmp_dataset/3월24일.csv'\n",
    "\n",
    "# CSV 파일 읽기\n",
    "df = pd.read_csv(file_path)\n",
    "\n",
    "# 데이터프레임의 상위 10개 행 추출\n",
    "df = df.head(10)\n",
    "\n",
    "# datetime 컬럼을 제외한 object 타입의 열 찾기\n",
    "object_columns = df.select_dtypes(include=['object']).columns.tolist()\n",
    "object_columns.remove('datetime')\n",
    "\n",
    "# object 타입 열과 해당 열이 포함된 행 삭제\n",
    "df = df.drop(columns=object_columns).dropna()\n",
    "\n",
    "# 수정된 데이터 저장\n",
    "output_file_path = '/workspace/youngwoo/toyproject-datallm/modules/agent/tmp_dataset/modified_3월24일.csv'\n",
    "df.to_csv(output_file_path, index=False)\n",
    "\n",
    "print(f\"Modified CSV saved to {output_file_path}\")"
   ]
  },
  {
   "cell_type": "code",
   "execution_count": null,
   "metadata": {},
   "outputs": [],
   "source": []
  }
 ],
 "metadata": {
  "kernelspec": {
   "display_name": "Python 3",
   "language": "python",
   "name": "python3"
  },
  "language_info": {
   "codemirror_mode": {
    "name": "ipython",
    "version": 3
   },
   "file_extension": ".py",
   "mimetype": "text/x-python",
   "name": "python",
   "nbconvert_exporter": "python",
   "pygments_lexer": "ipython3",
   "version": "3.10.12"
  }
 },
 "nbformat": 4,
 "nbformat_minor": 2
}
