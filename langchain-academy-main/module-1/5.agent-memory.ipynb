{
 "cells": [
  {
   "cell_type": "markdown",
   "id": "13cd1c3e",
   "metadata": {},
   "source": [
    "[![Open in Colab](https://colab.research.google.com/assets/colab-badge.svg)](https://colab.research.google.com/github/langchain-ai/langchain-academy/blob/main/module-1/agent-memory.ipynb) [![Open in LangChain Academy](https://cdn.prod.website-files.com/65b8cd72835ceeacd4449a53/66e9eba12c7b7688aa3dbb5e_LCA-badge-green.svg)](https://academy.langchain.com/courses/take/intro-to-langgraph/lessons/58239417-lesson-7-agent-with-memory)"
   ]
  },
  {
   "attachments": {},
   "cell_type": "markdown",
   "id": "8c451ffd-a18b-4412-85fa-85186824dd03",
   "metadata": {},
   "source": [
    "# Agent memory\n",
    "\n",
    "## Review\n",
    "\n",
    "Previously, we built an agent that can:\n",
    "\n",
    "* `act` - let the model call specific tools \n",
    "* `observe` - pass the tool output back to the model \n",
    "* `reason` - let the model reason about the tool output to decide what to do next (e.g., call another tool or just respond directly)\n",
    "\n",
    "![Screenshot 2024-08-21 at 12.45.32 PM.png](https://cdn.prod.website-files.com/65b8cd72835ceeacd4449a53/66dbab7453080e6802cd1703_agent-memory1.png)\n",
    "\n",
    "## Goals\n",
    "\n",
    "Now, we're going extend our agent by introducing memory."
   ]
  },
  {
   "cell_type": "code",
   "execution_count": null,
   "id": "d2b4b45b-cbaa-41b1-b3ed-f6b0645be3f9",
   "metadata": {},
   "outputs": [],
   "source": [
    "%%capture --no-stderr\n",
    "%pip install --quiet -U langchain_openai langchain_core langgraph"
   ]
  },
  {
   "cell_type": "code",
   "execution_count": 1,
   "id": "2b0cfa99",
   "metadata": {},
   "outputs": [],
   "source": [
    "import os, getpass\n",
    "\n",
    "def _set_env(var: str):\n",
    "    if not os.environ.get(var):\n",
    "        os.environ[var] = getpass.getpass(f\"{var}: \")\n",
    "\n",
    "_set_env(\"OPENAI_API_KEY\")"
   ]
  },
  {
   "cell_type": "markdown",
   "id": "02eff247-a2aa-4f7a-8be1-73dfebfecc63",
   "metadata": {},
   "source": [
    "We'll use [LangSmith](https://docs.smith.langchain.com/) for [tracing](https://docs.smith.langchain.com/concepts/tracing)."
   ]
  },
  {
   "cell_type": "code",
   "execution_count": 2,
   "id": "74ef2ff0",
   "metadata": {},
   "outputs": [],
   "source": [
    "_set_env(\"LANGCHAIN_API_KEY\")\n",
    "os.environ[\"LANGCHAIN_TRACING_V2\"] = \"true\"\n",
    "os.environ[\"LANGCHAIN_PROJECT\"] = \"langchain-academy\""
   ]
  },
  {
   "cell_type": "markdown",
   "id": "9c5f123b-db5d-4816-a6a3-2e4247611512",
   "metadata": {},
   "source": [
    "This follows what we did previously."
   ]
  },
  {
   "cell_type": "code",
   "execution_count": 1,
   "id": "46647bbe-def5-4ea7-a315-1de8d97c8288",
   "metadata": {},
   "outputs": [],
   "source": [
    "from langchain_openai import ChatOpenAI\n",
    "\n",
    "def multiply(a: int, b: int) -> int:\n",
    "    \"\"\"Multiply a and b.\n",
    "\n",
    "    Args:\n",
    "        a: first int\n",
    "        b: second int\n",
    "    \"\"\"\n",
    "    return a * b\n",
    "\n",
    "# This will be a tool\n",
    "def add(a: int, b: int) -> int:\n",
    "    \"\"\"Adds a and b.\n",
    "\n",
    "    Args:\n",
    "        a: first int\n",
    "        b: second int\n",
    "    \"\"\"\n",
    "    return a + b\n",
    "\n",
    "def divide(a: int, b: int) -> float:\n",
    "    \"\"\"Divide a and b.\n",
    "\n",
    "    Args:\n",
    "        a: first int\n",
    "        b: second int\n",
    "    \"\"\"\n",
    "    return a / b\n",
    "\n",
    "tools = [add, multiply, divide]\n",
    "llm = ChatOpenAI(model=\"gpt-4o\")\n",
    "llm_with_tools = llm.bind_tools(tools)"
   ]
  },
  {
   "cell_type": "code",
   "execution_count": 2,
   "id": "a9092b40-20c4-4872-b0ed-be1b53a15ef3",
   "metadata": {},
   "outputs": [],
   "source": [
    "from langgraph.graph import MessagesState\n",
    "from langchain_core.messages import AIMessage, HumanMessage, SystemMessage\n",
    "\n",
    "# System message\n",
    "sys_msg = SystemMessage(content=\"You are a helpful assistant tasked with performing arithmetic on a set of inputs.\")\n",
    "\n",
    "# Node\n",
    "def assistant(state: MessagesState):\n",
    "   return {\"messages\": [llm_with_tools.invoke([sys_msg] + state[\"messages\"])]}"
   ]
  },
  {
   "cell_type": "code",
   "execution_count": 3,
   "id": "771123a3-91ac-4076-92c0-93bcd69cf048",
   "metadata": {},
   "outputs": [
    {
     "data": {
      "image/png": "[encoded data removed]",
      "text/plain": [
       "<IPython.core.display.Image object>"
      ]
     },
     "metadata": {},
     "output_type": "display_data"
    }
   ],
   "source": [
    "from langgraph.graph import START, StateGraph\n",
    "from langgraph.prebuilt import tools_condition, ToolNode\n",
    "from IPython.display import Image, display\n",
    "\n",
    "# Graph\n",
    "builder = StateGraph(MessagesState)\n",
    "\n",
    "# Define nodes: these do the work\n",
    "builder.add_node(\"assistant\", assistant)\n",
    "builder.add_node(\"tools\", ToolNode(tools))\n",
    "\n",
    "# Define edges: these determine how the control flow moves\n",
    "builder.add_edge(START, \"assistant\")\n",
    "builder.add_conditional_edges(\n",
    "    \"assistant\",\n",
    "    # If the latest message (result) from assistant is a tool call -> tools_condition routes to tools\n",
    "    # If the latest message (result) from assistant is a not a tool call -> tools_condition routes to END\n",
    "    tools_condition,\n",
    ")\n",
    "builder.add_edge(\"tools\", \"assistant\")\n",
    "react_graph = builder.compile()\n",
    "\n",
    "# Show\n",
    "display(Image(react_graph.get_graph(xray=True).draw_mermaid_png()))"
   ]
  },
  {
   "cell_type": "markdown",
   "id": "1f1e967e",
   "metadata": {},
   "source": [
    "## 1. Non memory 에이전트\n"
   ]
  },
  {
   "cell_type": "markdown",
   "id": "e830b7ae-3673-4cc6-8627-4740b7b8b217",
   "metadata": {},
   "source": [
    "## Memory\n",
    "\n",
    "Let's run our agent, as before."
   ]
  },
  {
   "cell_type": "code",
   "execution_count": 4,
   "id": "596a71a0-1337-44d4-971d-f80c367bd868",
   "metadata": {},
   "outputs": [
    {
     "name": "stdout",
     "output_type": "stream",
     "text": [
      "================================\u001b[1m Human Message \u001b[0m=================================\n",
      "\n",
      "Add 3 and 4.\n",
      "==================================\u001b[1m Ai Message \u001b[0m==================================\n",
      "Tool Calls:\n",
      "  add (call_WIgMkr7k8M251Lnhnt5yupnq)\n",
      " Call ID: call_WIgMkr7k8M251Lnhnt5yupnq\n",
      "  Args:\n",
      "    a: 3\n",
      "    b: 4\n",
      "=================================\u001b[1m Tool Message \u001b[0m=================================\n",
      "Name: add\n",
      "\n",
      "7\n",
      "==================================\u001b[1m Ai Message \u001b[0m==================================\n",
      "\n",
      "The sum of 3 and 4 is 7.\n"
     ]
    }
   ],
   "source": [
    "messages = [HumanMessage(content=\"Add 3 and 4.\")]\n",
    "messages = react_graph.invoke({\"messages\": messages})\n",
    "for m in messages['messages']:\n",
    "    m.pretty_print()"
   ]
  },
  {
   "cell_type": "markdown",
   "id": "92f8128c-f4a5-4dee-b20b-3245bd33f6b3",
   "metadata": {},
   "source": [
    "Now, let's multiply by 2!"
   ]
  },
  {
   "cell_type": "code",
   "execution_count": 5,
   "id": "b41cc1d7-e6de-4d86-8958-8cf7446f4c22",
   "metadata": {},
   "outputs": [
    {
     "name": "stdout",
     "output_type": "stream",
     "text": [
      "================================\u001b[1m Human Message \u001b[0m=================================\n",
      "\n",
      "Multiply that by 2.\n",
      "==================================\u001b[1m Ai Message \u001b[0m==================================\n",
      "\n",
      "It seems like you're asking to multiply a number by 2, but I don't have the initial number that you want to multiply. Could you please provide the number you'd like to multiply by 2?\n"
     ]
    }
   ],
   "source": [
    "messages = [HumanMessage(content=\"Multiply that by 2.\")]\n",
    "messages = react_graph.invoke({\"messages\": messages})\n",
    "for m in messages['messages']:\n",
    "    m.pretty_print()"
   ]
  },
  {
   "cell_type": "markdown",
   "id": "26e65f3c-e1dc-4a62-b8ab-02b33a6ff268",
   "metadata": {},
   "source": [
    "We don't retain memory of 7 from our initial chat!\n",
    "\n",
    "This is because [state is transient](https://github.com/langchain-ai/langgraph/discussions/352#discussioncomment-9291220) to a single graph execution.\n",
    "\n",
    "Of course, this limits our ability to have multi-turn conversations with interruptions. \n",
    "\n",
    "We can use [persistence](https://langchain-ai.github.io/langgraph/how-tos/persistence/) to address this! \n",
    "\n",
    "LangGraph can use a checkpointer to automatically save the graph state after each step.\n",
    "\n",
    "This built-in persistence layer gives us memory, allowing LangGraph to pick up from the last state update. \n",
    "\n",
    "One of the easiest checkpointers to use is the `MemorySaver`, an in-memory key-value store for Graph state.\n",
    "\n",
    "All we need to do is simply compile the graph with a checkpointer, and our graph has memory!"
   ]
  },
  {
   "cell_type": "markdown",
   "id": "29d0cd89",
   "metadata": {},
   "source": [
    "## 2. memory 에이전트\n"
   ]
  },
  {
   "cell_type": "code",
   "execution_count": 7,
   "id": "637fcd79-3896-42e4-9131-e03b123a0a90",
   "metadata": {},
   "outputs": [],
   "source": [
    "from langgraph.checkpoint.memory import MemorySaver\n",
    "memory = MemorySaver()\n",
    "react_graph_memory = builder.compile(checkpointer=memory)"
   ]
  },
  {
   "attachments": {},
   "cell_type": "markdown",
   "id": "ff8fc3bf-3999-47cb-af34-06b2b94d7192",
   "metadata": {},
   "source": [
    "When we use memory, we need to specify a `thread_id`.\n",
    "\n",
    "This `thread_id` will store our collection of graph states.\n",
    "\n",
    "Here is a cartoon:\n",
    "\n",
    "* The checkpointer write the state at every step of the graph\n",
    "* These checkpoints are saved in a thread \n",
    "* We can access that thread in the future using the `thread_id`\n",
    "\n",
    "![state.jpg](https://cdn.prod.website-files.com/65b8cd72835ceeacd4449a53/66e0e9f526b41a4ed9e2d28b_agent-memory2.png)\n"
   ]
  },
  {
   "cell_type": "markdown",
   "id": "77157519",
   "metadata": {},
   "source": [
    "1. Sequential Nodes (순차적 노드)\n",
    "    * 순차적으로 실행되는 노드들은 각각 별도의 super-step을 가짐\n",
    "2. Parallel Nodes (병렬 노드)\n",
    "    * 동시에 실행되는 병렬 노드들은 같은 super-step을 공유\n",
    "\n",
    "체크포인트 저장 시점\n",
    "* 순차 노드 : 각 노드마다 체크포인트 생성\n",
    "* 병렬 노드 : 모든 병렬 노드가 완료된 후 하나의 체크포인트 생성\n"
   ]
  },
  {
   "cell_type": "code",
   "execution_count": null,
   "id": "f722a1d6-e73c-4023-86ed-8b07d392278d",
   "metadata": {},
   "outputs": [],
   "source": [
    "# Specify a thread\n",
    "config = {\"configurable\": {\"thread_id\": \"1\"}}\n",
    "\n",
    "# Specify an input\n",
    "messages = [HumanMessage(content=\"Add 3 and 4.\")]\n",
    "\n",
    "# Run\n",
    "messages = react_graph_memory.invoke({\"messages\": messages},config)\n",
    "\n",
    "for m in messages['messages']:\n",
    "    m.pretty_print()"
   ]
  },
  {
   "cell_type": "markdown",
   "id": "fe06d292",
   "metadata": {},
   "source": [
    "체크포인트 -1\n",
    "최초 사용자 입력 단계\n",
    "저장내용: 사용자의 메시지 (\"Add 4 and 5.\")\n",
    "__start__ 채널에 초기 메시지 기록\n",
    "체크포인트 0\n",
    "대화 초기화 단계\n",
    "저장내용: 사용자 메시지를 messages 채널로 이동\n",
    "start:assistant 설정 (AI 응답 준비)\n",
    "체크포인트 1\n",
    "AI의 tool 호출 단계\n",
    "저장내용: AI가 add 툴을 호출하기 위한 준비\n",
    "tool_calls 정보 (tool: add, 파라미터: a=4, b=5)\n",
    "토큰 사용량 등 메타데이터\n",
    "체크포인트 2\n",
    "툴 실행 결과 단계\n",
    "저장내용: add 툴의 실행 결과 (\"9\")\n",
    "ToolMessage로 결과값 저장\n",
    "체크포인트 3\n",
    "AI의 최종 응답 단계\n",
    "저장내용: AI의 최종 응답 메시지 (\"The sum of 4 and 5 is 9.\")\n",
    "전체 대화 완료 상태"
   ]
  },
  {
   "cell_type": "code",
   "execution_count": 25,
   "id": "c9997d24",
   "metadata": {},
   "outputs": [],
   "source": [
    "from langgraph.checkpoint.memory import MemorySaver\n",
    "memory = MemorySaver()\n",
    "react_graph_memory_v2 = builder.compile(checkpointer=memory)"
   ]
  },
  {
   "cell_type": "code",
   "execution_count": null,
   "id": "ba46466a",
   "metadata": {},
   "outputs": [],
   "source": [
    "# Specify a thread\n",
    "config_101 = {\"configurable\": {\"thread_id\": \"101\"}}\n",
    "\n",
    "# Specify an input\n",
    "messages = [HumanMessage(content=\"Add 4 and 5.\")]\n",
    "\n",
    "# Run\n",
    "messages = react_graph_memory_v2.invoke({\"messages\": messages},config_101)\n",
    "\n",
    "# for m in messages['messages']:\n",
    "#     m.pretty_print()\n"
   ]
  },
  {
   "cell_type": "code",
   "execution_count": 27,
   "id": "110b319e",
   "metadata": {},
   "outputs": [
    {
     "name": "stdout",
     "output_type": "stream",
     "text": [
      "\n",
      "=== 체크포인트 내용 확인 ===\n",
      "\n",
      "[Checkpoint 3]\n",
      "State:\n",
      "{'v': 1, 'ts': '2024-11-27T03:15:16.135158+00:00', 'id': '1efac6dd-2e41-6b15-8003-05c7af176268', 'channel_values': {'messages': [HumanMessage(content='Add 4 and 5.', additional_kwargs={}, response_metadata={}, id='a0847524-6ebc-4af1-b0cc-c1a940868436'), AIMessage(content='', additional_kwargs={'tool_calls': [{'id': 'call_3wWfIK4HShocDih6rInNaoCT', 'function': {'arguments': '{\"a\":4,\"b\":5}', 'name': 'add'}, 'type': 'function'}], 'refusal': None}, response_metadata={'token_usage': {'completion_tokens': 17, 'prompt_tokens': 132, 'total_tokens': 149, 'completion_tokens_details': {'accepted_prediction_tokens': 0, 'audio_tokens': 0, 'reasoning_tokens': 0, 'rejected_prediction_tokens': 0}, 'prompt_tokens_details': {'audio_tokens': 0, 'cached_tokens': 0}}, 'model_name': 'gpt-4o-2024-08-06', 'system_fingerprint': 'fp_7f6be3efb0', 'finish_reason': 'tool_calls', 'logprobs': None}, id='run-a017179d-6800-4c5c-9a3f-4ea8be846ecc-0', tool_calls=[{'name': 'add', 'args': {'a': 4, 'b': 5}, 'id': 'call_3wWfIK4HShocDih6rInNaoCT', 'type': 'tool_call'}], usage_metadata={'input_tokens': 132, 'output_tokens': 17, 'total_tokens': 149, 'input_token_details': {'audio': 0, 'cache_read': 0}, 'output_token_details': {'audio': 0, 'reasoning': 0}}), ToolMessage(content='9', name='add', id='8fbc6e9b-13c2-46c6-bbc8-598a47135507', tool_call_id='call_3wWfIK4HShocDih6rInNaoCT'), AIMessage(content='The sum of 4 and 5 is 9.', additional_kwargs={'refusal': None}, response_metadata={'token_usage': {'completion_tokens': 13, 'prompt_tokens': 157, 'total_tokens': 170, 'completion_tokens_details': {'accepted_prediction_tokens': 0, 'audio_tokens': 0, 'reasoning_tokens': 0, 'rejected_prediction_tokens': 0}, 'prompt_tokens_details': {'audio_tokens': 0, 'cached_tokens': 0}}, 'model_name': 'gpt-4o-2024-08-06', 'system_fingerprint': 'fp_7f6be3efb0', 'finish_reason': 'stop', 'logprobs': None}, id='run-01746486-5d53-4610-8b27-96c761f42a2d-0', usage_metadata={'input_tokens': 157, 'output_tokens': 13, 'total_tokens': 170, 'input_token_details': {'audio': 0, 'cache_read': 0}, 'output_token_details': {'audio': 0, 'reasoning': 0}})], 'assistant': 'assistant'}, 'channel_versions': {'__start__': '00000000000000000000000000000002.0.9319910289612291', 'messages': '00000000000000000000000000000005.0.6039731148617695', 'start:assistant': '00000000000000000000000000000003.0.13240443219058629', 'assistant': '00000000000000000000000000000005.0.5601303936786866', 'branch:assistant:tools_condition:tools': '00000000000000000000000000000004.0.04513341052876607', 'tools': '00000000000000000000000000000005.0.6396171044234202'}, 'versions_seen': {'__input__': {}, '__start__': {'__start__': '00000000000000000000000000000001.0.01709550232179935'}, 'assistant': {'start:assistant': '00000000000000000000000000000002.0.4682402182529951', 'tools': '00000000000000000000000000000004.0.8832482331499473'}, 'tools': {'branch:assistant:tools_condition:tools': '00000000000000000000000000000003.0.6010645681060268'}}, 'pending_sends': []}\n",
      "\n",
      "Metadata:\n",
      "{'source': 'loop', 'writes': {'assistant': {'messages': [AIMessage(content='The sum of 4 and 5 is 9.', additional_kwargs={'refusal': None}, response_metadata={'token_usage': {'completion_tokens': 13, 'prompt_tokens': 157, 'total_tokens': 170, 'completion_tokens_details': {'accepted_prediction_tokens': 0, 'audio_tokens': 0, 'reasoning_tokens': 0, 'rejected_prediction_tokens': 0}, 'prompt_tokens_details': {'audio_tokens': 0, 'cached_tokens': 0}}, 'model_name': 'gpt-4o-2024-08-06', 'system_fingerprint': 'fp_7f6be3efb0', 'finish_reason': 'stop', 'logprobs': None}, id='run-01746486-5d53-4610-8b27-96c761f42a2d-0', usage_metadata={'input_tokens': 157, 'output_tokens': 13, 'total_tokens': 170, 'input_token_details': {'audio': 0, 'cache_read': 0}, 'output_token_details': {'audio': 0, 'reasoning': 0}})]}}, 'thread_id': '101', 'step': 3, 'parents': {}}\n",
      "\n",
      "Parent Config:\n",
      "{'configurable': {'thread_id': '101', 'checkpoint_ns': '', 'checkpoint_id': '1efac6dd-26a3-6201-8002-dce29c736346'}}\n",
      "---\n",
      "\n",
      "[Checkpoint 2]\n",
      "State:\n",
      "{'v': 1, 'ts': '2024-11-27T03:15:15.336222+00:00', 'id': '1efac6dd-26a3-6201-8002-dce29c736346', 'channel_values': {'messages': [HumanMessage(content='Add 4 and 5.', additional_kwargs={}, response_metadata={}, id='a0847524-6ebc-4af1-b0cc-c1a940868436'), AIMessage(content='', additional_kwargs={'tool_calls': [{'id': 'call_3wWfIK4HShocDih6rInNaoCT', 'function': {'arguments': '{\"a\":4,\"b\":5}', 'name': 'add'}, 'type': 'function'}], 'refusal': None}, response_metadata={'token_usage': {'completion_tokens': 17, 'prompt_tokens': 132, 'total_tokens': 149, 'completion_tokens_details': {'accepted_prediction_tokens': 0, 'audio_tokens': 0, 'reasoning_tokens': 0, 'rejected_prediction_tokens': 0}, 'prompt_tokens_details': {'audio_tokens': 0, 'cached_tokens': 0}}, 'model_name': 'gpt-4o-2024-08-06', 'system_fingerprint': 'fp_7f6be3efb0', 'finish_reason': 'tool_calls', 'logprobs': None}, id='run-a017179d-6800-4c5c-9a3f-4ea8be846ecc-0', tool_calls=[{'name': 'add', 'args': {'a': 4, 'b': 5}, 'id': 'call_3wWfIK4HShocDih6rInNaoCT', 'type': 'tool_call'}], usage_metadata={'input_tokens': 132, 'output_tokens': 17, 'total_tokens': 149, 'input_token_details': {'audio': 0, 'cache_read': 0}, 'output_token_details': {'audio': 0, 'reasoning': 0}}), ToolMessage(content='9', name='add', id='8fbc6e9b-13c2-46c6-bbc8-598a47135507', tool_call_id='call_3wWfIK4HShocDih6rInNaoCT')], 'tools': 'tools'}, 'channel_versions': {'__start__': '00000000000000000000000000000002.0.9319910289612291', 'messages': '00000000000000000000000000000004.0.7866039026570472', 'start:assistant': '00000000000000000000000000000003.0.13240443219058629', 'assistant': '00000000000000000000000000000004.0.021468051015304468', 'branch:assistant:tools_condition:tools': '00000000000000000000000000000004.0.04513341052876607', 'tools': '00000000000000000000000000000004.0.8832482331499473'}, 'versions_seen': {'__input__': {}, '__start__': {'__start__': '00000000000000000000000000000001.0.01709550232179935'}, 'assistant': {'start:assistant': '00000000000000000000000000000002.0.4682402182529951'}, 'tools': {'branch:assistant:tools_condition:tools': '00000000000000000000000000000003.0.6010645681060268'}}, 'pending_sends': []}\n",
      "\n",
      "Metadata:\n",
      "{'source': 'loop', 'writes': {'tools': {'messages': [ToolMessage(content='9', name='add', id='8fbc6e9b-13c2-46c6-bbc8-598a47135507', tool_call_id='call_3wWfIK4HShocDih6rInNaoCT')]}}, 'thread_id': '101', 'step': 2, 'parents': {}}\n",
      "\n",
      "Parent Config:\n",
      "{'configurable': {'thread_id': '101', 'checkpoint_ns': '', 'checkpoint_id': '1efac6dd-269b-627e-8001-ad41879d70b4'}}\n",
      "---\n",
      "\n",
      "[Checkpoint 1]\n",
      "State:\n",
      "{'v': 1, 'ts': '2024-11-27T03:15:15.332946+00:00', 'id': '1efac6dd-269b-627e-8001-ad41879d70b4', 'channel_values': {'messages': [HumanMessage(content='Add 4 and 5.', additional_kwargs={}, response_metadata={}, id='a0847524-6ebc-4af1-b0cc-c1a940868436'), AIMessage(content='', additional_kwargs={'tool_calls': [{'id': 'call_3wWfIK4HShocDih6rInNaoCT', 'function': {'arguments': '{\"a\":4,\"b\":5}', 'name': 'add'}, 'type': 'function'}], 'refusal': None}, response_metadata={'token_usage': {'completion_tokens': 17, 'prompt_tokens': 132, 'total_tokens': 149, 'completion_tokens_details': {'accepted_prediction_tokens': 0, 'audio_tokens': 0, 'reasoning_tokens': 0, 'rejected_prediction_tokens': 0}, 'prompt_tokens_details': {'audio_tokens': 0, 'cached_tokens': 0}}, 'model_name': 'gpt-4o-2024-08-06', 'system_fingerprint': 'fp_7f6be3efb0', 'finish_reason': 'tool_calls', 'logprobs': None}, id='run-a017179d-6800-4c5c-9a3f-4ea8be846ecc-0', tool_calls=[{'name': 'add', 'args': {'a': 4, 'b': 5}, 'id': 'call_3wWfIK4HShocDih6rInNaoCT', 'type': 'tool_call'}], usage_metadata={'input_tokens': 132, 'output_tokens': 17, 'total_tokens': 149, 'input_token_details': {'audio': 0, 'cache_read': 0}, 'output_token_details': {'audio': 0, 'reasoning': 0}})], 'assistant': 'assistant', 'branch:assistant:tools_condition:tools': 'assistant'}, 'channel_versions': {'__start__': '00000000000000000000000000000002.0.9319910289612291', 'messages': '00000000000000000000000000000003.0.12992299232946003', 'start:assistant': '00000000000000000000000000000003.0.13240443219058629', 'assistant': '00000000000000000000000000000003.0.8048932463482656', 'branch:assistant:tools_condition:tools': '00000000000000000000000000000003.0.6010645681060268'}, 'versions_seen': {'__input__': {}, '__start__': {'__start__': '00000000000000000000000000000001.0.01709550232179935'}, 'assistant': {'start:assistant': '00000000000000000000000000000002.0.4682402182529951'}}, 'pending_sends': []}\n",
      "\n",
      "Metadata:\n",
      "{'source': 'loop', 'writes': {'assistant': {'messages': [AIMessage(content='', additional_kwargs={'tool_calls': [{'id': 'call_3wWfIK4HShocDih6rInNaoCT', 'function': {'arguments': '{\"a\":4,\"b\":5}', 'name': 'add'}, 'type': 'function'}], 'refusal': None}, response_metadata={'token_usage': {'completion_tokens': 17, 'prompt_tokens': 132, 'total_tokens': 149, 'completion_tokens_details': {'accepted_prediction_tokens': 0, 'audio_tokens': 0, 'reasoning_tokens': 0, 'rejected_prediction_tokens': 0}, 'prompt_tokens_details': {'audio_tokens': 0, 'cached_tokens': 0}}, 'model_name': 'gpt-4o-2024-08-06', 'system_fingerprint': 'fp_7f6be3efb0', 'finish_reason': 'tool_calls', 'logprobs': None}, id='run-a017179d-6800-4c5c-9a3f-4ea8be846ecc-0', tool_calls=[{'name': 'add', 'args': {'a': 4, 'b': 5}, 'id': 'call_3wWfIK4HShocDih6rInNaoCT', 'type': 'tool_call'}], usage_metadata={'input_tokens': 132, 'output_tokens': 17, 'total_tokens': 149, 'input_token_details': {'audio': 0, 'cache_read': 0}, 'output_token_details': {'audio': 0, 'reasoning': 0}})]}}, 'thread_id': '101', 'step': 1, 'parents': {}}\n",
      "\n",
      "Parent Config:\n",
      "{'configurable': {'thread_id': '101', 'checkpoint_ns': '', 'checkpoint_id': '1efac6dd-17c3-6b4b-8000-ee8dd8686166'}}\n",
      "---\n",
      "\n",
      "[Checkpoint 0]\n",
      "State:\n",
      "{'v': 1, 'ts': '2024-11-27T03:15:13.776711+00:00', 'id': '1efac6dd-17c3-6b4b-8000-ee8dd8686166', 'channel_values': {'messages': [HumanMessage(content='Add 4 and 5.', additional_kwargs={}, response_metadata={}, id='a0847524-6ebc-4af1-b0cc-c1a940868436')], 'start:assistant': '__start__'}, 'channel_versions': {'__start__': '00000000000000000000000000000002.0.9319910289612291', 'messages': '00000000000000000000000000000002.0.8366724823294296', 'start:assistant': '00000000000000000000000000000002.0.4682402182529951'}, 'versions_seen': {'__input__': {}, '__start__': {'__start__': '00000000000000000000000000000001.0.01709550232179935'}}, 'pending_sends': []}\n",
      "\n",
      "Metadata:\n",
      "{'source': 'loop', 'writes': None, 'thread_id': '101', 'step': 0, 'parents': {}}\n",
      "\n",
      "Parent Config:\n",
      "{'configurable': {'thread_id': '101', 'checkpoint_ns': '', 'checkpoint_id': '1efac6dd-17c0-639f-bfff-1903c8f7e555'}}\n",
      "---\n",
      "\n",
      "[Checkpoint -1]\n",
      "State:\n",
      "{'v': 1, 'ts': '2024-11-27T03:15:13.775288+00:00', 'id': '1efac6dd-17c0-639f-bfff-1903c8f7e555', 'channel_values': {'__start__': {'messages': [HumanMessage(content='Add 4 and 5.', additional_kwargs={}, response_metadata={})]}}, 'channel_versions': {'__start__': '00000000000000000000000000000001.0.01709550232179935'}, 'versions_seen': {'__input__': {}}, 'pending_sends': []}\n",
      "\n",
      "Metadata:\n",
      "{'source': 'input', 'writes': {'__start__': {'messages': [HumanMessage(content='Add 4 and 5.', additional_kwargs={}, response_metadata={})]}}, 'thread_id': '101', 'step': -1, 'parents': {}}\n",
      "\n",
      "Parent Config:\n",
      "None\n",
      "---\n"
     ]
    }
   ],
   "source": [
    "# 체크포인트 확인\n",
    "config_101 = {\"configurable\": {\"thread_id\": \"101\"}}\n",
    "\n",
    "print(\"\\n=== 체크포인트 내용 확인 ===\")\n",
    "for checkpoint_tuple in memory.list(config_101):\n",
    "    print(f\"\\n[Checkpoint {checkpoint_tuple.metadata['step']}]\")\n",
    "    print(\"State:\")\n",
    "    print(checkpoint_tuple.checkpoint)  # 전체 체크포인트 상태 출력\n",
    "    print(\"\\nMetadata:\")\n",
    "    print(checkpoint_tuple.metadata)\n",
    "    print(\"\\nParent Config:\")\n",
    "    print(checkpoint_tuple.parent_config)\n",
    "    print(\"---\")"
   ]
  },
  {
   "cell_type": "code",
   "execution_count": 28,
   "id": "5478cb64",
   "metadata": {},
   "outputs": [
    {
     "name": "stdout",
     "output_type": "stream",
     "text": [
      "\n",
      "=== 체크포인트 내용 확인 ===\n",
      "\n",
      "[Checkpoint 8]\n",
      "State:\n",
      "{'v': 1, 'ts': '2024-11-27T03:15:59.981831+00:00', 'id': '1efac6de-d069-6452-8008-1bfaeda13008', 'channel_values': {'messages': [HumanMessage(content='Add 4 and 5.', additional_kwargs={}, response_metadata={}, id='a0847524-6ebc-4af1-b0cc-c1a940868436'), AIMessage(content='', additional_kwargs={'tool_calls': [{'id': 'call_3wWfIK4HShocDih6rInNaoCT', 'function': {'arguments': '{\"a\":4,\"b\":5}', 'name': 'add'}, 'type': 'function'}], 'refusal': None}, response_metadata={'token_usage': {'completion_tokens': 17, 'prompt_tokens': 132, 'total_tokens': 149, 'completion_tokens_details': {'accepted_prediction_tokens': 0, 'audio_tokens': 0, 'reasoning_tokens': 0, 'rejected_prediction_tokens': 0}, 'prompt_tokens_details': {'audio_tokens': 0, 'cached_tokens': 0}}, 'model_name': 'gpt-4o-2024-08-06', 'system_fingerprint': 'fp_7f6be3efb0', 'finish_reason': 'tool_calls', 'logprobs': None}, id='run-a017179d-6800-4c5c-9a3f-4ea8be846ecc-0', tool_calls=[{'name': 'add', 'args': {'a': 4, 'b': 5}, 'id': 'call_3wWfIK4HShocDih6rInNaoCT', 'type': 'tool_call'}], usage_metadata={'input_tokens': 132, 'output_tokens': 17, 'total_tokens': 149, 'input_token_details': {'audio': 0, 'cache_read': 0}, 'output_token_details': {'audio': 0, 'reasoning': 0}}), ToolMessage(content='9', name='add', id='8fbc6e9b-13c2-46c6-bbc8-598a47135507', tool_call_id='call_3wWfIK4HShocDih6rInNaoCT'), AIMessage(content='The sum of 4 and 5 is 9.', additional_kwargs={'refusal': None}, response_metadata={'token_usage': {'completion_tokens': 13, 'prompt_tokens': 157, 'total_tokens': 170, 'completion_tokens_details': {'accepted_prediction_tokens': 0, 'audio_tokens': 0, 'reasoning_tokens': 0, 'rejected_prediction_tokens': 0}, 'prompt_tokens_details': {'audio_tokens': 0, 'cached_tokens': 0}}, 'model_name': 'gpt-4o-2024-08-06', 'system_fingerprint': 'fp_7f6be3efb0', 'finish_reason': 'stop', 'logprobs': None}, id='run-01746486-5d53-4610-8b27-96c761f42a2d-0', usage_metadata={'input_tokens': 157, 'output_tokens': 13, 'total_tokens': 170, 'input_token_details': {'audio': 0, 'cache_read': 0}, 'output_token_details': {'audio': 0, 'reasoning': 0}}), HumanMessage(content='Multiply that by 2.', additional_kwargs={}, response_metadata={}, id='a22d1f73-aa7a-40c5-bdb4-1708b5309e3a'), AIMessage(content='', additional_kwargs={'tool_calls': [{'id': 'call_yHK1Lu6xtG7ADnbKW74Rl3aJ', 'function': {'arguments': '{\"a\":9,\"b\":2}', 'name': 'multiply'}, 'type': 'function'}], 'refusal': None}, response_metadata={'token_usage': {'completion_tokens': 17, 'prompt_tokens': 183, 'total_tokens': 200, 'completion_tokens_details': {'accepted_prediction_tokens': 0, 'audio_tokens': 0, 'reasoning_tokens': 0, 'rejected_prediction_tokens': 0}, 'prompt_tokens_details': {'audio_tokens': 0, 'cached_tokens': 0}}, 'model_name': 'gpt-4o-2024-08-06', 'system_fingerprint': 'fp_7f6be3efb0', 'finish_reason': 'tool_calls', 'logprobs': None}, id='run-28e64414-b804-4ab9-9969-df432b9b501c-0', tool_calls=[{'name': 'multiply', 'args': {'a': 9, 'b': 2}, 'id': 'call_yHK1Lu6xtG7ADnbKW74Rl3aJ', 'type': 'tool_call'}], usage_metadata={'input_tokens': 183, 'output_tokens': 17, 'total_tokens': 200, 'input_token_details': {'audio': 0, 'cache_read': 0}, 'output_token_details': {'audio': 0, 'reasoning': 0}}), ToolMessage(content='18', name='multiply', id='e3b35b86-bf60-4040-903a-9be011afbd1e', tool_call_id='call_yHK1Lu6xtG7ADnbKW74Rl3aJ'), AIMessage(content='Multiplying 9 by 2 gives 18.', additional_kwargs={'refusal': None}, response_metadata={'token_usage': {'completion_tokens': 12, 'prompt_tokens': 208, 'total_tokens': 220, 'completion_tokens_details': {'accepted_prediction_tokens': 0, 'audio_tokens': 0, 'reasoning_tokens': 0, 'rejected_prediction_tokens': 0}, 'prompt_tokens_details': {'audio_tokens': 0, 'cached_tokens': 0}}, 'model_name': 'gpt-4o-2024-08-06', 'system_fingerprint': 'fp_7f6be3efb0', 'finish_reason': 'stop', 'logprobs': None}, id='run-9ac3de0c-1705-4999-83ff-18237c8f1979-0', usage_metadata={'input_tokens': 208, 'output_tokens': 12, 'total_tokens': 220, 'input_token_details': {'audio': 0, 'cache_read': 0}, 'output_token_details': {'audio': 0, 'reasoning': 0}})], 'assistant': 'assistant'}, 'channel_versions': {'__start__': '00000000000000000000000000000007.0.7109247226101791', 'messages': '00000000000000000000000000000010.0.8122121727331642', 'start:assistant': '00000000000000000000000000000008.0.8688008225669462', 'assistant': '00000000000000000000000000000010.0.9545183678894191', 'branch:assistant:tools_condition:tools': '00000000000000000000000000000009.0.0071971913787250985', 'tools': '00000000000000000000000000000010.0.4979403764646241'}, 'versions_seen': {'__input__': {}, '__start__': {'__start__': '00000000000000000000000000000006.0.1922070344893828'}, 'assistant': {'start:assistant': '00000000000000000000000000000007.0.4077088573110046', 'tools': '00000000000000000000000000000009.0.08202045080990061'}, 'tools': {'branch:assistant:tools_condition:tools': '00000000000000000000000000000008.0.8482091788356475'}}, 'pending_sends': []}\n",
      "\n",
      "Metadata:\n",
      "{'source': 'loop', 'writes': {'assistant': {'messages': [AIMessage(content='Multiplying 9 by 2 gives 18.', additional_kwargs={'refusal': None}, response_metadata={'token_usage': {'completion_tokens': 12, 'prompt_tokens': 208, 'total_tokens': 220, 'completion_tokens_details': {'accepted_prediction_tokens': 0, 'audio_tokens': 0, 'reasoning_tokens': 0, 'rejected_prediction_tokens': 0}, 'prompt_tokens_details': {'audio_tokens': 0, 'cached_tokens': 0}}, 'model_name': 'gpt-4o-2024-08-06', 'system_fingerprint': 'fp_7f6be3efb0', 'finish_reason': 'stop', 'logprobs': None}, id='run-9ac3de0c-1705-4999-83ff-18237c8f1979-0', usage_metadata={'input_tokens': 208, 'output_tokens': 12, 'total_tokens': 220, 'input_token_details': {'audio': 0, 'cache_read': 0}, 'output_token_details': {'audio': 0, 'reasoning': 0}})]}}, 'thread_id': '101', 'step': 8, 'parents': {}}\n",
      "\n",
      "Parent Config:\n",
      "{'configurable': {'thread_id': '101', 'checkpoint_ns': '', 'checkpoint_id': '1efac6de-9729-6983-8007-2ca69002abe9'}}\n",
      "---\n",
      "\n",
      "[Checkpoint 7]\n",
      "State:\n",
      "{'v': 1, 'ts': '2024-11-27T03:15:53.978897+00:00', 'id': '1efac6de-9729-6983-8007-2ca69002abe9', 'channel_values': {'messages': [HumanMessage(content='Add 4 and 5.', additional_kwargs={}, response_metadata={}, id='a0847524-6ebc-4af1-b0cc-c1a940868436'), AIMessage(content='', additional_kwargs={'tool_calls': [{'id': 'call_3wWfIK4HShocDih6rInNaoCT', 'function': {'arguments': '{\"a\":4,\"b\":5}', 'name': 'add'}, 'type': 'function'}], 'refusal': None}, response_metadata={'token_usage': {'completion_tokens': 17, 'prompt_tokens': 132, 'total_tokens': 149, 'completion_tokens_details': {'accepted_prediction_tokens': 0, 'audio_tokens': 0, 'reasoning_tokens': 0, 'rejected_prediction_tokens': 0}, 'prompt_tokens_details': {'audio_tokens': 0, 'cached_tokens': 0}}, 'model_name': 'gpt-4o-2024-08-06', 'system_fingerprint': 'fp_7f6be3efb0', 'finish_reason': 'tool_calls', 'logprobs': None}, id='run-a017179d-6800-4c5c-9a3f-4ea8be846ecc-0', tool_calls=[{'name': 'add', 'args': {'a': 4, 'b': 5}, 'id': 'call_3wWfIK4HShocDih6rInNaoCT', 'type': 'tool_call'}], usage_metadata={'input_tokens': 132, 'output_tokens': 17, 'total_tokens': 149, 'input_token_details': {'audio': 0, 'cache_read': 0}, 'output_token_details': {'audio': 0, 'reasoning': 0}}), ToolMessage(content='9', name='add', id='8fbc6e9b-13c2-46c6-bbc8-598a47135507', tool_call_id='call_3wWfIK4HShocDih6rInNaoCT'), AIMessage(content='The sum of 4 and 5 is 9.', additional_kwargs={'refusal': None}, response_metadata={'token_usage': {'completion_tokens': 13, 'prompt_tokens': 157, 'total_tokens': 170, 'completion_tokens_details': {'accepted_prediction_tokens': 0, 'audio_tokens': 0, 'reasoning_tokens': 0, 'rejected_prediction_tokens': 0}, 'prompt_tokens_details': {'audio_tokens': 0, 'cached_tokens': 0}}, 'model_name': 'gpt-4o-2024-08-06', 'system_fingerprint': 'fp_7f6be3efb0', 'finish_reason': 'stop', 'logprobs': None}, id='run-01746486-5d53-4610-8b27-96c761f42a2d-0', usage_metadata={'input_tokens': 157, 'output_tokens': 13, 'total_tokens': 170, 'input_token_details': {'audio': 0, 'cache_read': 0}, 'output_token_details': {'audio': 0, 'reasoning': 0}}), HumanMessage(content='Multiply that by 2.', additional_kwargs={}, response_metadata={}, id='a22d1f73-aa7a-40c5-bdb4-1708b5309e3a'), AIMessage(content='', additional_kwargs={'tool_calls': [{'id': 'call_yHK1Lu6xtG7ADnbKW74Rl3aJ', 'function': {'arguments': '{\"a\":9,\"b\":2}', 'name': 'multiply'}, 'type': 'function'}], 'refusal': None}, response_metadata={'token_usage': {'completion_tokens': 17, 'prompt_tokens': 183, 'total_tokens': 200, 'completion_tokens_details': {'accepted_prediction_tokens': 0, 'audio_tokens': 0, 'reasoning_tokens': 0, 'rejected_prediction_tokens': 0}, 'prompt_tokens_details': {'audio_tokens': 0, 'cached_tokens': 0}}, 'model_name': 'gpt-4o-2024-08-06', 'system_fingerprint': 'fp_7f6be3efb0', 'finish_reason': 'tool_calls', 'logprobs': None}, id='run-28e64414-b804-4ab9-9969-df432b9b501c-0', tool_calls=[{'name': 'multiply', 'args': {'a': 9, 'b': 2}, 'id': 'call_yHK1Lu6xtG7ADnbKW74Rl3aJ', 'type': 'tool_call'}], usage_metadata={'input_tokens': 183, 'output_tokens': 17, 'total_tokens': 200, 'input_token_details': {'audio': 0, 'cache_read': 0}, 'output_token_details': {'audio': 0, 'reasoning': 0}}), ToolMessage(content='18', name='multiply', id='e3b35b86-bf60-4040-903a-9be011afbd1e', tool_call_id='call_yHK1Lu6xtG7ADnbKW74Rl3aJ')], 'tools': 'tools'}, 'channel_versions': {'__start__': '00000000000000000000000000000007.0.7109247226101791', 'messages': '00000000000000000000000000000009.0.6438177148518799', 'start:assistant': '00000000000000000000000000000008.0.8688008225669462', 'assistant': '00000000000000000000000000000009.0.7913204900781605', 'branch:assistant:tools_condition:tools': '00000000000000000000000000000009.0.0071971913787250985', 'tools': '00000000000000000000000000000009.0.08202045080990061'}, 'versions_seen': {'__input__': {}, '__start__': {'__start__': '00000000000000000000000000000006.0.1922070344893828'}, 'assistant': {'start:assistant': '00000000000000000000000000000007.0.4077088573110046', 'tools': '00000000000000000000000000000004.0.8832482331499473'}, 'tools': {'branch:assistant:tools_condition:tools': '00000000000000000000000000000008.0.8482091788356475'}}, 'pending_sends': []}\n",
      "\n",
      "Metadata:\n",
      "{'source': 'loop', 'writes': {'tools': {'messages': [ToolMessage(content='18', name='multiply', id='e3b35b86-bf60-4040-903a-9be011afbd1e', tool_call_id='call_yHK1Lu6xtG7ADnbKW74Rl3aJ')]}}, 'thread_id': '101', 'step': 7, 'parents': {}}\n",
      "\n",
      "Parent Config:\n",
      "{'configurable': {'thread_id': '101', 'checkpoint_ns': '', 'checkpoint_id': '1efac6de-9723-6b97-8006-2020ef7b063e'}}\n",
      "---\n",
      "\n",
      "[Checkpoint 6]\n",
      "State:\n",
      "{'v': 1, 'ts': '2024-11-27T03:15:53.976482+00:00', 'id': '1efac6de-9723-6b97-8006-2020ef7b063e', 'channel_values': {'messages': [HumanMessage(content='Add 4 and 5.', additional_kwargs={}, response_metadata={}, id='a0847524-6ebc-4af1-b0cc-c1a940868436'), AIMessage(content='', additional_kwargs={'tool_calls': [{'id': 'call_3wWfIK4HShocDih6rInNaoCT', 'function': {'arguments': '{\"a\":4,\"b\":5}', 'name': 'add'}, 'type': 'function'}], 'refusal': None}, response_metadata={'token_usage': {'completion_tokens': 17, 'prompt_tokens': 132, 'total_tokens': 149, 'completion_tokens_details': {'accepted_prediction_tokens': 0, 'audio_tokens': 0, 'reasoning_tokens': 0, 'rejected_prediction_tokens': 0}, 'prompt_tokens_details': {'audio_tokens': 0, 'cached_tokens': 0}}, 'model_name': 'gpt-4o-2024-08-06', 'system_fingerprint': 'fp_7f6be3efb0', 'finish_reason': 'tool_calls', 'logprobs': None}, id='run-a017179d-6800-4c5c-9a3f-4ea8be846ecc-0', tool_calls=[{'name': 'add', 'args': {'a': 4, 'b': 5}, 'id': 'call_3wWfIK4HShocDih6rInNaoCT', 'type': 'tool_call'}], usage_metadata={'input_tokens': 132, 'output_tokens': 17, 'total_tokens': 149, 'input_token_details': {'audio': 0, 'cache_read': 0}, 'output_token_details': {'audio': 0, 'reasoning': 0}}), ToolMessage(content='9', name='add', id='8fbc6e9b-13c2-46c6-bbc8-598a47135507', tool_call_id='call_3wWfIK4HShocDih6rInNaoCT'), AIMessage(content='The sum of 4 and 5 is 9.', additional_kwargs={'refusal': None}, response_metadata={'token_usage': {'completion_tokens': 13, 'prompt_tokens': 157, 'total_tokens': 170, 'completion_tokens_details': {'accepted_prediction_tokens': 0, 'audio_tokens': 0, 'reasoning_tokens': 0, 'rejected_prediction_tokens': 0}, 'prompt_tokens_details': {'audio_tokens': 0, 'cached_tokens': 0}}, 'model_name': 'gpt-4o-2024-08-06', 'system_fingerprint': 'fp_7f6be3efb0', 'finish_reason': 'stop', 'logprobs': None}, id='run-01746486-5d53-4610-8b27-96c761f42a2d-0', usage_metadata={'input_tokens': 157, 'output_tokens': 13, 'total_tokens': 170, 'input_token_details': {'audio': 0, 'cache_read': 0}, 'output_token_details': {'audio': 0, 'reasoning': 0}}), HumanMessage(content='Multiply that by 2.', additional_kwargs={}, response_metadata={}, id='a22d1f73-aa7a-40c5-bdb4-1708b5309e3a'), AIMessage(content='', additional_kwargs={'tool_calls': [{'id': 'call_yHK1Lu6xtG7ADnbKW74Rl3aJ', 'function': {'arguments': '{\"a\":9,\"b\":2}', 'name': 'multiply'}, 'type': 'function'}], 'refusal': None}, response_metadata={'token_usage': {'completion_tokens': 17, 'prompt_tokens': 183, 'total_tokens': 200, 'completion_tokens_details': {'accepted_prediction_tokens': 0, 'audio_tokens': 0, 'reasoning_tokens': 0, 'rejected_prediction_tokens': 0}, 'prompt_tokens_details': {'audio_tokens': 0, 'cached_tokens': 0}}, 'model_name': 'gpt-4o-2024-08-06', 'system_fingerprint': 'fp_7f6be3efb0', 'finish_reason': 'tool_calls', 'logprobs': None}, id='run-28e64414-b804-4ab9-9969-df432b9b501c-0', tool_calls=[{'name': 'multiply', 'args': {'a': 9, 'b': 2}, 'id': 'call_yHK1Lu6xtG7ADnbKW74Rl3aJ', 'type': 'tool_call'}], usage_metadata={'input_tokens': 183, 'output_tokens': 17, 'total_tokens': 200, 'input_token_details': {'audio': 0, 'cache_read': 0}, 'output_token_details': {'audio': 0, 'reasoning': 0}})], 'assistant': 'assistant', 'branch:assistant:tools_condition:tools': 'assistant'}, 'channel_versions': {'__start__': '00000000000000000000000000000007.0.7109247226101791', 'messages': '00000000000000000000000000000008.0.8220651497441364', 'start:assistant': '00000000000000000000000000000008.0.8688008225669462', 'assistant': '00000000000000000000000000000008.0.8460104103393877', 'branch:assistant:tools_condition:tools': '00000000000000000000000000000008.0.8482091788356475', 'tools': '00000000000000000000000000000005.0.6396171044234202'}, 'versions_seen': {'__input__': {}, '__start__': {'__start__': '00000000000000000000000000000006.0.1922070344893828'}, 'assistant': {'start:assistant': '00000000000000000000000000000007.0.4077088573110046', 'tools': '00000000000000000000000000000004.0.8832482331499473'}, 'tools': {'branch:assistant:tools_condition:tools': '00000000000000000000000000000003.0.6010645681060268'}}, 'pending_sends': []}\n",
      "\n",
      "Metadata:\n",
      "{'source': 'loop', 'writes': {'assistant': {'messages': [AIMessage(content='', additional_kwargs={'tool_calls': [{'id': 'call_yHK1Lu6xtG7ADnbKW74Rl3aJ', 'function': {'arguments': '{\"a\":9,\"b\":2}', 'name': 'multiply'}, 'type': 'function'}], 'refusal': None}, response_metadata={'token_usage': {'completion_tokens': 17, 'prompt_tokens': 183, 'total_tokens': 200, 'completion_tokens_details': {'accepted_prediction_tokens': 0, 'audio_tokens': 0, 'reasoning_tokens': 0, 'rejected_prediction_tokens': 0}, 'prompt_tokens_details': {'audio_tokens': 0, 'cached_tokens': 0}}, 'model_name': 'gpt-4o-2024-08-06', 'system_fingerprint': 'fp_7f6be3efb0', 'finish_reason': 'tool_calls', 'logprobs': None}, id='run-28e64414-b804-4ab9-9969-df432b9b501c-0', tool_calls=[{'name': 'multiply', 'args': {'a': 9, 'b': 2}, 'id': 'call_yHK1Lu6xtG7ADnbKW74Rl3aJ', 'type': 'tool_call'}], usage_metadata={'input_tokens': 183, 'output_tokens': 17, 'total_tokens': 200, 'input_token_details': {'audio': 0, 'cache_read': 0}, 'output_token_details': {'audio': 0, 'reasoning': 0}})]}}, 'thread_id': '101', 'step': 6, 'parents': {}}\n",
      "\n",
      "Parent Config:\n",
      "{'configurable': {'thread_id': '101', 'checkpoint_ns': '', 'checkpoint_id': '1efac6de-8de4-69d3-8005-201941ff5876'}}\n",
      "---\n",
      "\n",
      "[Checkpoint 5]\n",
      "State:\n",
      "{'v': 1, 'ts': '2024-11-27T03:15:53.006928+00:00', 'id': '1efac6de-8de4-69d3-8005-201941ff5876', 'channel_values': {'messages': [HumanMessage(content='Add 4 and 5.', additional_kwargs={}, response_metadata={}, id='a0847524-6ebc-4af1-b0cc-c1a940868436'), AIMessage(content='', additional_kwargs={'tool_calls': [{'id': 'call_3wWfIK4HShocDih6rInNaoCT', 'function': {'arguments': '{\"a\":4,\"b\":5}', 'name': 'add'}, 'type': 'function'}], 'refusal': None}, response_metadata={'token_usage': {'completion_tokens': 17, 'prompt_tokens': 132, 'total_tokens': 149, 'completion_tokens_details': {'accepted_prediction_tokens': 0, 'audio_tokens': 0, 'reasoning_tokens': 0, 'rejected_prediction_tokens': 0}, 'prompt_tokens_details': {'audio_tokens': 0, 'cached_tokens': 0}}, 'model_name': 'gpt-4o-2024-08-06', 'system_fingerprint': 'fp_7f6be3efb0', 'finish_reason': 'tool_calls', 'logprobs': None}, id='run-a017179d-6800-4c5c-9a3f-4ea8be846ecc-0', tool_calls=[{'name': 'add', 'args': {'a': 4, 'b': 5}, 'id': 'call_3wWfIK4HShocDih6rInNaoCT', 'type': 'tool_call'}], usage_metadata={'input_tokens': 132, 'output_tokens': 17, 'total_tokens': 149, 'input_token_details': {'audio': 0, 'cache_read': 0}, 'output_token_details': {'audio': 0, 'reasoning': 0}}), ToolMessage(content='9', name='add', id='8fbc6e9b-13c2-46c6-bbc8-598a47135507', tool_call_id='call_3wWfIK4HShocDih6rInNaoCT'), AIMessage(content='The sum of 4 and 5 is 9.', additional_kwargs={'refusal': None}, response_metadata={'token_usage': {'completion_tokens': 13, 'prompt_tokens': 157, 'total_tokens': 170, 'completion_tokens_details': {'accepted_prediction_tokens': 0, 'audio_tokens': 0, 'reasoning_tokens': 0, 'rejected_prediction_tokens': 0}, 'prompt_tokens_details': {'audio_tokens': 0, 'cached_tokens': 0}}, 'model_name': 'gpt-4o-2024-08-06', 'system_fingerprint': 'fp_7f6be3efb0', 'finish_reason': 'stop', 'logprobs': None}, id='run-01746486-5d53-4610-8b27-96c761f42a2d-0', usage_metadata={'input_tokens': 157, 'output_tokens': 13, 'total_tokens': 170, 'input_token_details': {'audio': 0, 'cache_read': 0}, 'output_token_details': {'audio': 0, 'reasoning': 0}}), HumanMessage(content='Multiply that by 2.', additional_kwargs={}, response_metadata={}, id='a22d1f73-aa7a-40c5-bdb4-1708b5309e3a')], 'start:assistant': '__start__'}, 'channel_versions': {'__start__': '00000000000000000000000000000007.0.7109247226101791', 'messages': '00000000000000000000000000000007.0.3784780123825332', 'start:assistant': '00000000000000000000000000000007.0.4077088573110046', 'assistant': '00000000000000000000000000000007.0.3881472790690085', 'branch:assistant:tools_condition:tools': '00000000000000000000000000000004.0.04513341052876607', 'tools': '00000000000000000000000000000005.0.6396171044234202'}, 'versions_seen': {'__input__': {}, '__start__': {'__start__': '00000000000000000000000000000006.0.1922070344893828'}, 'assistant': {'start:assistant': '00000000000000000000000000000002.0.4682402182529951', 'tools': '00000000000000000000000000000004.0.8832482331499473'}, 'tools': {'branch:assistant:tools_condition:tools': '00000000000000000000000000000003.0.6010645681060268'}}, 'pending_sends': []}\n",
      "\n",
      "Metadata:\n",
      "{'source': 'loop', 'writes': None, 'thread_id': '101', 'step': 5, 'parents': {}}\n",
      "\n",
      "Parent Config:\n",
      "{'configurable': {'thread_id': '101', 'checkpoint_ns': '', 'checkpoint_id': '1efac6de-8de1-68c7-8004-a34bae4fcfb2'}}\n",
      "---\n",
      "\n",
      "[Checkpoint 4]\n",
      "State:\n",
      "{'v': 1, 'ts': '2024-11-27T03:15:53.005666+00:00', 'id': '1efac6de-8de1-68c7-8004-a34bae4fcfb2', 'channel_values': {'messages': [HumanMessage(content='Add 4 and 5.', additional_kwargs={}, response_metadata={}, id='a0847524-6ebc-4af1-b0cc-c1a940868436'), AIMessage(content='', additional_kwargs={'tool_calls': [{'id': 'call_3wWfIK4HShocDih6rInNaoCT', 'function': {'arguments': '{\"a\":4,\"b\":5}', 'name': 'add'}, 'type': 'function'}], 'refusal': None}, response_metadata={'token_usage': {'completion_tokens': 17, 'prompt_tokens': 132, 'total_tokens': 149, 'completion_tokens_details': {'accepted_prediction_tokens': 0, 'audio_tokens': 0, 'reasoning_tokens': 0, 'rejected_prediction_tokens': 0}, 'prompt_tokens_details': {'audio_tokens': 0, 'cached_tokens': 0}}, 'model_name': 'gpt-4o-2024-08-06', 'system_fingerprint': 'fp_7f6be3efb0', 'finish_reason': 'tool_calls', 'logprobs': None}, id='run-a017179d-6800-4c5c-9a3f-4ea8be846ecc-0', tool_calls=[{'name': 'add', 'args': {'a': 4, 'b': 5}, 'id': 'call_3wWfIK4HShocDih6rInNaoCT', 'type': 'tool_call'}], usage_metadata={'input_tokens': 132, 'output_tokens': 17, 'total_tokens': 149, 'input_token_details': {'audio': 0, 'cache_read': 0}, 'output_token_details': {'audio': 0, 'reasoning': 0}}), ToolMessage(content='9', name='add', id='8fbc6e9b-13c2-46c6-bbc8-598a47135507', tool_call_id='call_3wWfIK4HShocDih6rInNaoCT'), AIMessage(content='The sum of 4 and 5 is 9.', additional_kwargs={'refusal': None}, response_metadata={'token_usage': {'completion_tokens': 13, 'prompt_tokens': 157, 'total_tokens': 170, 'completion_tokens_details': {'accepted_prediction_tokens': 0, 'audio_tokens': 0, 'reasoning_tokens': 0, 'rejected_prediction_tokens': 0}, 'prompt_tokens_details': {'audio_tokens': 0, 'cached_tokens': 0}}, 'model_name': 'gpt-4o-2024-08-06', 'system_fingerprint': 'fp_7f6be3efb0', 'finish_reason': 'stop', 'logprobs': None}, id='run-01746486-5d53-4610-8b27-96c761f42a2d-0', usage_metadata={'input_tokens': 157, 'output_tokens': 13, 'total_tokens': 170, 'input_token_details': {'audio': 0, 'cache_read': 0}, 'output_token_details': {'audio': 0, 'reasoning': 0}})], '__start__': {'messages': [HumanMessage(content='Multiply that by 2.', additional_kwargs={}, response_metadata={})]}, 'assistant': 'assistant'}, 'channel_versions': {'__start__': '00000000000000000000000000000006.0.1922070344893828', 'messages': '00000000000000000000000000000005.0.6039731148617695', 'start:assistant': '00000000000000000000000000000003.0.13240443219058629', 'assistant': '00000000000000000000000000000005.0.5601303936786866', 'branch:assistant:tools_condition:tools': '00000000000000000000000000000004.0.04513341052876607', 'tools': '00000000000000000000000000000005.0.6396171044234202'}, 'versions_seen': {'__input__': {}, '__start__': {'__start__': '00000000000000000000000000000001.0.01709550232179935'}, 'assistant': {'start:assistant': '00000000000000000000000000000002.0.4682402182529951', 'tools': '00000000000000000000000000000004.0.8832482331499473'}, 'tools': {'branch:assistant:tools_condition:tools': '00000000000000000000000000000003.0.6010645681060268'}}, 'pending_sends': []}\n",
      "\n",
      "Metadata:\n",
      "{'source': 'input', 'writes': {'__start__': {'messages': [HumanMessage(content='Multiply that by 2.', additional_kwargs={}, response_metadata={})]}}, 'thread_id': '101', 'step': 4, 'parents': {}}\n",
      "\n",
      "Parent Config:\n",
      "{'configurable': {'thread_id': '101', 'checkpoint_ns': '', 'checkpoint_id': '1efac6dd-2e41-6b15-8003-05c7af176268'}}\n",
      "---\n",
      "\n",
      "[Checkpoint 3]\n",
      "State:\n",
      "{'v': 1, 'ts': '2024-11-27T03:15:16.135158+00:00', 'id': '1efac6dd-2e41-6b15-8003-05c7af176268', 'channel_values': {'messages': [HumanMessage(content='Add 4 and 5.', additional_kwargs={}, response_metadata={}, id='a0847524-6ebc-4af1-b0cc-c1a940868436'), AIMessage(content='', additional_kwargs={'tool_calls': [{'id': 'call_3wWfIK4HShocDih6rInNaoCT', 'function': {'arguments': '{\"a\":4,\"b\":5}', 'name': 'add'}, 'type': 'function'}], 'refusal': None}, response_metadata={'token_usage': {'completion_tokens': 17, 'prompt_tokens': 132, 'total_tokens': 149, 'completion_tokens_details': {'accepted_prediction_tokens': 0, 'audio_tokens': 0, 'reasoning_tokens': 0, 'rejected_prediction_tokens': 0}, 'prompt_tokens_details': {'audio_tokens': 0, 'cached_tokens': 0}}, 'model_name': 'gpt-4o-2024-08-06', 'system_fingerprint': 'fp_7f6be3efb0', 'finish_reason': 'tool_calls', 'logprobs': None}, id='run-a017179d-6800-4c5c-9a3f-4ea8be846ecc-0', tool_calls=[{'name': 'add', 'args': {'a': 4, 'b': 5}, 'id': 'call_3wWfIK4HShocDih6rInNaoCT', 'type': 'tool_call'}], usage_metadata={'input_tokens': 132, 'output_tokens': 17, 'total_tokens': 149, 'input_token_details': {'audio': 0, 'cache_read': 0}, 'output_token_details': {'audio': 0, 'reasoning': 0}}), ToolMessage(content='9', name='add', id='8fbc6e9b-13c2-46c6-bbc8-598a47135507', tool_call_id='call_3wWfIK4HShocDih6rInNaoCT'), AIMessage(content='The sum of 4 and 5 is 9.', additional_kwargs={'refusal': None}, response_metadata={'token_usage': {'completion_tokens': 13, 'prompt_tokens': 157, 'total_tokens': 170, 'completion_tokens_details': {'accepted_prediction_tokens': 0, 'audio_tokens': 0, 'reasoning_tokens': 0, 'rejected_prediction_tokens': 0}, 'prompt_tokens_details': {'audio_tokens': 0, 'cached_tokens': 0}}, 'model_name': 'gpt-4o-2024-08-06', 'system_fingerprint': 'fp_7f6be3efb0', 'finish_reason': 'stop', 'logprobs': None}, id='run-01746486-5d53-4610-8b27-96c761f42a2d-0', usage_metadata={'input_tokens': 157, 'output_tokens': 13, 'total_tokens': 170, 'input_token_details': {'audio': 0, 'cache_read': 0}, 'output_token_details': {'audio': 0, 'reasoning': 0}})], 'assistant': 'assistant'}, 'channel_versions': {'__start__': '00000000000000000000000000000002.0.9319910289612291', 'messages': '00000000000000000000000000000005.0.6039731148617695', 'start:assistant': '00000000000000000000000000000003.0.13240443219058629', 'assistant': '00000000000000000000000000000005.0.5601303936786866', 'branch:assistant:tools_condition:tools': '00000000000000000000000000000004.0.04513341052876607', 'tools': '00000000000000000000000000000005.0.6396171044234202'}, 'versions_seen': {'__input__': {}, '__start__': {'__start__': '00000000000000000000000000000001.0.01709550232179935'}, 'assistant': {'start:assistant': '00000000000000000000000000000002.0.4682402182529951', 'tools': '00000000000000000000000000000004.0.8832482331499473'}, 'tools': {'branch:assistant:tools_condition:tools': '00000000000000000000000000000003.0.6010645681060268'}}, 'pending_sends': []}\n",
      "\n",
      "Metadata:\n",
      "{'source': 'loop', 'writes': {'assistant': {'messages': [AIMessage(content='The sum of 4 and 5 is 9.', additional_kwargs={'refusal': None}, response_metadata={'token_usage': {'completion_tokens': 13, 'prompt_tokens': 157, 'total_tokens': 170, 'completion_tokens_details': {'accepted_prediction_tokens': 0, 'audio_tokens': 0, 'reasoning_tokens': 0, 'rejected_prediction_tokens': 0}, 'prompt_tokens_details': {'audio_tokens': 0, 'cached_tokens': 0}}, 'model_name': 'gpt-4o-2024-08-06', 'system_fingerprint': 'fp_7f6be3efb0', 'finish_reason': 'stop', 'logprobs': None}, id='run-01746486-5d53-4610-8b27-96c761f42a2d-0', usage_metadata={'input_tokens': 157, 'output_tokens': 13, 'total_tokens': 170, 'input_token_details': {'audio': 0, 'cache_read': 0}, 'output_token_details': {'audio': 0, 'reasoning': 0}})]}}, 'thread_id': '101', 'step': 3, 'parents': {}}\n",
      "\n",
      "Parent Config:\n",
      "{'configurable': {'thread_id': '101', 'checkpoint_ns': '', 'checkpoint_id': '1efac6dd-26a3-6201-8002-dce29c736346'}}\n",
      "---\n",
      "\n",
      "[Checkpoint 2]\n",
      "State:\n",
      "{'v': 1, 'ts': '2024-11-27T03:15:15.336222+00:00', 'id': '1efac6dd-26a3-6201-8002-dce29c736346', 'channel_values': {'messages': [HumanMessage(content='Add 4 and 5.', additional_kwargs={}, response_metadata={}, id='a0847524-6ebc-4af1-b0cc-c1a940868436'), AIMessage(content='', additional_kwargs={'tool_calls': [{'id': 'call_3wWfIK4HShocDih6rInNaoCT', 'function': {'arguments': '{\"a\":4,\"b\":5}', 'name': 'add'}, 'type': 'function'}], 'refusal': None}, response_metadata={'token_usage': {'completion_tokens': 17, 'prompt_tokens': 132, 'total_tokens': 149, 'completion_tokens_details': {'accepted_prediction_tokens': 0, 'audio_tokens': 0, 'reasoning_tokens': 0, 'rejected_prediction_tokens': 0}, 'prompt_tokens_details': {'audio_tokens': 0, 'cached_tokens': 0}}, 'model_name': 'gpt-4o-2024-08-06', 'system_fingerprint': 'fp_7f6be3efb0', 'finish_reason': 'tool_calls', 'logprobs': None}, id='run-a017179d-6800-4c5c-9a3f-4ea8be846ecc-0', tool_calls=[{'name': 'add', 'args': {'a': 4, 'b': 5}, 'id': 'call_3wWfIK4HShocDih6rInNaoCT', 'type': 'tool_call'}], usage_metadata={'input_tokens': 132, 'output_tokens': 17, 'total_tokens': 149, 'input_token_details': {'audio': 0, 'cache_read': 0}, 'output_token_details': {'audio': 0, 'reasoning': 0}}), ToolMessage(content='9', name='add', id='8fbc6e9b-13c2-46c6-bbc8-598a47135507', tool_call_id='call_3wWfIK4HShocDih6rInNaoCT')], 'tools': 'tools'}, 'channel_versions': {'__start__': '00000000000000000000000000000002.0.9319910289612291', 'messages': '00000000000000000000000000000004.0.7866039026570472', 'start:assistant': '00000000000000000000000000000003.0.13240443219058629', 'assistant': '00000000000000000000000000000004.0.021468051015304468', 'branch:assistant:tools_condition:tools': '00000000000000000000000000000004.0.04513341052876607', 'tools': '00000000000000000000000000000004.0.8832482331499473'}, 'versions_seen': {'__input__': {}, '__start__': {'__start__': '00000000000000000000000000000001.0.01709550232179935'}, 'assistant': {'start:assistant': '00000000000000000000000000000002.0.4682402182529951'}, 'tools': {'branch:assistant:tools_condition:tools': '00000000000000000000000000000003.0.6010645681060268'}}, 'pending_sends': []}\n",
      "\n",
      "Metadata:\n",
      "{'source': 'loop', 'writes': {'tools': {'messages': [ToolMessage(content='9', name='add', id='8fbc6e9b-13c2-46c6-bbc8-598a47135507', tool_call_id='call_3wWfIK4HShocDih6rInNaoCT')]}}, 'thread_id': '101', 'step': 2, 'parents': {}}\n",
      "\n",
      "Parent Config:\n",
      "{'configurable': {'thread_id': '101', 'checkpoint_ns': '', 'checkpoint_id': '1efac6dd-269b-627e-8001-ad41879d70b4'}}\n",
      "---\n",
      "\n",
      "[Checkpoint 1]\n",
      "State:\n",
      "{'v': 1, 'ts': '2024-11-27T03:15:15.332946+00:00', 'id': '1efac6dd-269b-627e-8001-ad41879d70b4', 'channel_values': {'messages': [HumanMessage(content='Add 4 and 5.', additional_kwargs={}, response_metadata={}, id='a0847524-6ebc-4af1-b0cc-c1a940868436'), AIMessage(content='', additional_kwargs={'tool_calls': [{'id': 'call_3wWfIK4HShocDih6rInNaoCT', 'function': {'arguments': '{\"a\":4,\"b\":5}', 'name': 'add'}, 'type': 'function'}], 'refusal': None}, response_metadata={'token_usage': {'completion_tokens': 17, 'prompt_tokens': 132, 'total_tokens': 149, 'completion_tokens_details': {'accepted_prediction_tokens': 0, 'audio_tokens': 0, 'reasoning_tokens': 0, 'rejected_prediction_tokens': 0}, 'prompt_tokens_details': {'audio_tokens': 0, 'cached_tokens': 0}}, 'model_name': 'gpt-4o-2024-08-06', 'system_fingerprint': 'fp_7f6be3efb0', 'finish_reason': 'tool_calls', 'logprobs': None}, id='run-a017179d-6800-4c5c-9a3f-4ea8be846ecc-0', tool_calls=[{'name': 'add', 'args': {'a': 4, 'b': 5}, 'id': 'call_3wWfIK4HShocDih6rInNaoCT', 'type': 'tool_call'}], usage_metadata={'input_tokens': 132, 'output_tokens': 17, 'total_tokens': 149, 'input_token_details': {'audio': 0, 'cache_read': 0}, 'output_token_details': {'audio': 0, 'reasoning': 0}})], 'assistant': 'assistant', 'branch:assistant:tools_condition:tools': 'assistant'}, 'channel_versions': {'__start__': '00000000000000000000000000000002.0.9319910289612291', 'messages': '00000000000000000000000000000003.0.12992299232946003', 'start:assistant': '00000000000000000000000000000003.0.13240443219058629', 'assistant': '00000000000000000000000000000003.0.8048932463482656', 'branch:assistant:tools_condition:tools': '00000000000000000000000000000003.0.6010645681060268'}, 'versions_seen': {'__input__': {}, '__start__': {'__start__': '00000000000000000000000000000001.0.01709550232179935'}, 'assistant': {'start:assistant': '00000000000000000000000000000002.0.4682402182529951'}}, 'pending_sends': []}\n",
      "\n",
      "Metadata:\n",
      "{'source': 'loop', 'writes': {'assistant': {'messages': [AIMessage(content='', additional_kwargs={'tool_calls': [{'id': 'call_3wWfIK4HShocDih6rInNaoCT', 'function': {'arguments': '{\"a\":4,\"b\":5}', 'name': 'add'}, 'type': 'function'}], 'refusal': None}, response_metadata={'token_usage': {'completion_tokens': 17, 'prompt_tokens': 132, 'total_tokens': 149, 'completion_tokens_details': {'accepted_prediction_tokens': 0, 'audio_tokens': 0, 'reasoning_tokens': 0, 'rejected_prediction_tokens': 0}, 'prompt_tokens_details': {'audio_tokens': 0, 'cached_tokens': 0}}, 'model_name': 'gpt-4o-2024-08-06', 'system_fingerprint': 'fp_7f6be3efb0', 'finish_reason': 'tool_calls', 'logprobs': None}, id='run-a017179d-6800-4c5c-9a3f-4ea8be846ecc-0', tool_calls=[{'name': 'add', 'args': {'a': 4, 'b': 5}, 'id': 'call_3wWfIK4HShocDih6rInNaoCT', 'type': 'tool_call'}], usage_metadata={'input_tokens': 132, 'output_tokens': 17, 'total_tokens': 149, 'input_token_details': {'audio': 0, 'cache_read': 0}, 'output_token_details': {'audio': 0, 'reasoning': 0}})]}}, 'thread_id': '101', 'step': 1, 'parents': {}}\n",
      "\n",
      "Parent Config:\n",
      "{'configurable': {'thread_id': '101', 'checkpoint_ns': '', 'checkpoint_id': '1efac6dd-17c3-6b4b-8000-ee8dd8686166'}}\n",
      "---\n",
      "\n",
      "[Checkpoint 0]\n",
      "State:\n",
      "{'v': 1, 'ts': '2024-11-27T03:15:13.776711+00:00', 'id': '1efac6dd-17c3-6b4b-8000-ee8dd8686166', 'channel_values': {'messages': [HumanMessage(content='Add 4 and 5.', additional_kwargs={}, response_metadata={}, id='a0847524-6ebc-4af1-b0cc-c1a940868436')], 'start:assistant': '__start__'}, 'channel_versions': {'__start__': '00000000000000000000000000000002.0.9319910289612291', 'messages': '00000000000000000000000000000002.0.8366724823294296', 'start:assistant': '00000000000000000000000000000002.0.4682402182529951'}, 'versions_seen': {'__input__': {}, '__start__': {'__start__': '00000000000000000000000000000001.0.01709550232179935'}}, 'pending_sends': []}\n",
      "\n",
      "Metadata:\n",
      "{'source': 'loop', 'writes': None, 'thread_id': '101', 'step': 0, 'parents': {}}\n",
      "\n",
      "Parent Config:\n",
      "{'configurable': {'thread_id': '101', 'checkpoint_ns': '', 'checkpoint_id': '1efac6dd-17c0-639f-bfff-1903c8f7e555'}}\n",
      "---\n",
      "\n",
      "[Checkpoint -1]\n",
      "State:\n",
      "{'v': 1, 'ts': '2024-11-27T03:15:13.775288+00:00', 'id': '1efac6dd-17c0-639f-bfff-1903c8f7e555', 'channel_values': {'__start__': {'messages': [HumanMessage(content='Add 4 and 5.', additional_kwargs={}, response_metadata={})]}}, 'channel_versions': {'__start__': '00000000000000000000000000000001.0.01709550232179935'}, 'versions_seen': {'__input__': {}}, 'pending_sends': []}\n",
      "\n",
      "Metadata:\n",
      "{'source': 'input', 'writes': {'__start__': {'messages': [HumanMessage(content='Add 4 and 5.', additional_kwargs={}, response_metadata={})]}}, 'thread_id': '101', 'step': -1, 'parents': {}}\n",
      "\n",
      "Parent Config:\n",
      "None\n",
      "---\n"
     ]
    }
   ],
   "source": [
    "messages = [HumanMessage(content=\"Multiply that by 2.\")]\n",
    "messages = react_graph_memory_v2.invoke({\"messages\": messages}, config_101)\n",
    "\n",
    "\n",
    "print(\"\\n=== 체크포인트 내용 확인 ===\")\n",
    "for checkpoint_tuple in memory.list(config_101):\n",
    "    print(f\"\\n[Checkpoint {checkpoint_tuple.metadata['step']}]\")\n",
    "    print(\"State:\")\n",
    "    print(checkpoint_tuple.checkpoint)  # 전체 체크포인트 상태 출력\n",
    "    print(\"\\nMetadata:\")\n",
    "    print(checkpoint_tuple.metadata)\n",
    "    print(\"\\nParent Config:\")\n",
    "    print(checkpoint_tuple.parent_config)\n",
    "    print(\"---\")"
   ]
  },
  {
   "cell_type": "markdown",
   "id": "c91a8a16-6bf1-48e2-a889-ae04a37c7a2b",
   "metadata": {},
   "source": [
    "If we pass the same `thread_id`, then we can proceed from from the previously logged state checkpoint! \n",
    "\n",
    "In this case, the above conversation is captured in the thread.\n",
    "\n",
    "The `HumanMessage` we pass (`\"Multiply that by 2.\"`) is appended to the above conversation.\n",
    "\n",
    "So, the model now know that `that` refers to the `The sum of 3 and 4 is 7.`."
   ]
  },
  {
   "cell_type": "code",
   "execution_count": 9,
   "id": "ee38c6ef-8bfb-4c66-9214-6f474c9b8451",
   "metadata": {},
   "outputs": [
    {
     "name": "stdout",
     "output_type": "stream",
     "text": [
      "================================\u001b[1m Human Message \u001b[0m=================================\n",
      "\n",
      "Add 3 and 4.\n",
      "==================================\u001b[1m Ai Message \u001b[0m==================================\n",
      "Tool Calls:\n",
      "  add (call_NcVrcwTmttFPB4gsbIdZetQv)\n",
      " Call ID: call_NcVrcwTmttFPB4gsbIdZetQv\n",
      "  Args:\n",
      "    a: 3\n",
      "    b: 4\n",
      "=================================\u001b[1m Tool Message \u001b[0m=================================\n",
      "Name: add\n",
      "\n",
      "7\n",
      "==================================\u001b[1m Ai Message \u001b[0m==================================\n",
      "\n",
      "The sum of 3 and 4 is 7.\n",
      "================================\u001b[1m Human Message \u001b[0m=================================\n",
      "\n",
      "Multiply that by 2.\n",
      "==================================\u001b[1m Ai Message \u001b[0m==================================\n",
      "Tool Calls:\n",
      "  multiply (call_SzdULNkRWxM8HxfzZSs6QusQ)\n",
      " Call ID: call_SzdULNkRWxM8HxfzZSs6QusQ\n",
      "  Args:\n",
      "    a: 7\n",
      "    b: 2\n",
      "=================================\u001b[1m Tool Message \u001b[0m=================================\n",
      "Name: multiply\n",
      "\n",
      "14\n",
      "==================================\u001b[1m Ai Message \u001b[0m==================================\n",
      "\n",
      "The result of multiplying 7 by 2 is 14.\n"
     ]
    }
   ],
   "source": [
    "messages = [HumanMessage(content=\"Multiply that by 2.\")]\n",
    "messages = react_graph_memory.invoke({\"messages\": messages}, config)\n",
    "for m in messages['messages']:\n",
    "    m.pretty_print()"
   ]
  },
  {
   "cell_type": "markdown",
   "id": "c4b7774e-566f-4c92-9429-ed953bcacaa5",
   "metadata": {},
   "source": [
    "## LangGraph Studio\n",
    "\n",
    "--\n",
    "\n",
    "**⚠️ DISCLAIMER**\n",
    "\n",
    "*Running Studio currently requires a Mac. If you are not using a Mac, then skip this step.*\n",
    "\n",
    "--\n",
    "\n",
    "Load the `agent` in the UI, which uses `module-1/studio/agent.py` set in `module-1/studio/langgraph.json`."
   ]
  },
  {
   "cell_type": "code",
   "execution_count": null,
   "id": "6d72986c-ff6f-4f81-b585-d268e2710e53",
   "metadata": {},
   "outputs": [],
   "source": []
  }
 ],
 "metadata": {
  "kernelspec": {
   "display_name": "Python 3 (ipykernel)",
   "language": "python",
   "name": "python3"
  },
  "language_info": {
   "codemirror_mode": {
    "name": "ipython",
    "version": 3
   },
   "file_extension": ".py",
   "mimetype": "text/x-python",
   "name": "python",
   "nbconvert_exporter": "python",
   "pygments_lexer": "ipython3",
   "version": "3.10.12"
  }
 },
 "nbformat": 4,
 "nbformat_minor": 5
}
