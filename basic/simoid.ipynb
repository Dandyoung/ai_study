{
 "cells": [
  {
   "cell_type": "code",
   "execution_count": null,
   "metadata": {},
   "outputs": [],
   "source": [
    "import numpy as np\n",
    "import matplotlib.pyplot as plt\n",
    "\n",
    "def sigmoid(x):\n",
    "   return 1 / (1 + np.exp(-x))\n",
    "\n",
    "# x값의 범위 설정\n",
    "x = np.linspace(-10, 10, 1000)\n",
    "\n",
    "# 원래 시그모이드\n",
    "y1 = sigmoid(x)\n",
    "\n",
    "# bias -10이 적용된 시그모이드 (x-10)\n",
    "y2 = sigmoid(x-10)\n",
    "\n",
    "plt.figure(figsize=(10, 6))\n",
    "plt.plot(x, y1, 'b-', label='Original Sigmoid')\n",
    "plt.plot(x, y2, 'r--', label='Sigmoid with bias=-10')\n",
    "\n",
    "plt.grid(True)\n",
    "plt.legend()\n",
    "plt.title('Sigmoid Function with bias')\n",
    "plt.xlabel('x')\n",
    "plt.ylabel('y')\n",
    "\n",
    "# x축과 y축이 교차하는 지점에 검은색 선 추가\n",
    "plt.axhline(y=0, color='k', linestyle='-')\n",
    "plt.axvline(x=0, color='k', linestyle='-')\n",
    "\n",
    "plt.show()"
   ]
  }
 ],
 "metadata": {
  "language_info": {
   "name": "python"
  }
 },
 "nbformat": 4,
 "nbformat_minor": 2
}
